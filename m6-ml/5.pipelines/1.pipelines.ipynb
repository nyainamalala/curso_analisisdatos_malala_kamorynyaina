{
 "cells": [
  {
   "cell_type": "code",
   "execution_count": 16,
   "metadata": {},
   "outputs": [],
   "source": [
    "import numpy as np\n",
    "import pandas as pd\n",
    "import seaborn as sns\n",
    "import matplotlib.pyplot as plt"
   ]
  },
  {
   "cell_type": "code",
   "execution_count": 17,
   "metadata": {},
   "outputs": [
    {
     "data": {
      "text/plain": [
       "species               0\n",
       "island                0\n",
       "bill_length_mm        2\n",
       "bill_depth_mm         2\n",
       "flipper_length_mm     2\n",
       "body_mass_g           2\n",
       "sex                  11\n",
       "dtype: int64"
      ]
     },
     "execution_count": 17,
     "metadata": {},
     "output_type": "execute_result"
    }
   ],
   "source": [
    "df = sns.load_dataset('penguins')\n",
    "df.isnull().sum()"
   ]
  },
  {
   "cell_type": "code",
   "execution_count": 18,
   "metadata": {},
   "outputs": [
    {
     "data": {
      "text/html": [
       "<div>\n",
       "<style scoped>\n",
       "    .dataframe tbody tr th:only-of-type {\n",
       "        vertical-align: middle;\n",
       "    }\n",
       "\n",
       "    .dataframe tbody tr th {\n",
       "        vertical-align: top;\n",
       "    }\n",
       "\n",
       "    .dataframe thead th {\n",
       "        text-align: right;\n",
       "    }\n",
       "</style>\n",
       "<table border=\"1\" class=\"dataframe\">\n",
       "  <thead>\n",
       "    <tr style=\"text-align: right;\">\n",
       "      <th></th>\n",
       "      <th>species</th>\n",
       "      <th>island</th>\n",
       "      <th>bill_length_mm</th>\n",
       "      <th>bill_depth_mm</th>\n",
       "      <th>flipper_length_mm</th>\n",
       "      <th>body_mass_g</th>\n",
       "      <th>sex</th>\n",
       "    </tr>\n",
       "  </thead>\n",
       "  <tbody>\n",
       "    <tr>\n",
       "      <th>0</th>\n",
       "      <td>Adelie</td>\n",
       "      <td>Torgersen</td>\n",
       "      <td>39.1</td>\n",
       "      <td>18.7</td>\n",
       "      <td>181.0</td>\n",
       "      <td>3750.0</td>\n",
       "      <td>Male</td>\n",
       "    </tr>\n",
       "  </tbody>\n",
       "</table>\n",
       "</div>"
      ],
      "text/plain": [
       "  species     island  bill_length_mm  bill_depth_mm  flipper_length_mm  \\\n",
       "0  Adelie  Torgersen            39.1           18.7              181.0   \n",
       "\n",
       "   body_mass_g   sex  \n",
       "0       3750.0  Male  "
      ]
     },
     "execution_count": 18,
     "metadata": {},
     "output_type": "execute_result"
    }
   ],
   "source": [
    "df.head(1)"
   ]
  },
  {
   "cell_type": "code",
   "execution_count": 23,
   "metadata": {},
   "outputs": [
    {
     "data": {
      "text/html": [
       "<style>#sk-container-id-4 {color: black;background-color: white;}#sk-container-id-4 pre{padding: 0;}#sk-container-id-4 div.sk-toggleable {background-color: white;}#sk-container-id-4 label.sk-toggleable__label {cursor: pointer;display: block;width: 100%;margin-bottom: 0;padding: 0.3em;box-sizing: border-box;text-align: center;}#sk-container-id-4 label.sk-toggleable__label-arrow:before {content: \"▸\";float: left;margin-right: 0.25em;color: #696969;}#sk-container-id-4 label.sk-toggleable__label-arrow:hover:before {color: black;}#sk-container-id-4 div.sk-estimator:hover label.sk-toggleable__label-arrow:before {color: black;}#sk-container-id-4 div.sk-toggleable__content {max-height: 0;max-width: 0;overflow: hidden;text-align: left;background-color: #f0f8ff;}#sk-container-id-4 div.sk-toggleable__content pre {margin: 0.2em;color: black;border-radius: 0.25em;background-color: #f0f8ff;}#sk-container-id-4 input.sk-toggleable__control:checked~div.sk-toggleable__content {max-height: 200px;max-width: 100%;overflow: auto;}#sk-container-id-4 input.sk-toggleable__control:checked~label.sk-toggleable__label-arrow:before {content: \"▾\";}#sk-container-id-4 div.sk-estimator input.sk-toggleable__control:checked~label.sk-toggleable__label {background-color: #d4ebff;}#sk-container-id-4 div.sk-label input.sk-toggleable__control:checked~label.sk-toggleable__label {background-color: #d4ebff;}#sk-container-id-4 input.sk-hidden--visually {border: 0;clip: rect(1px 1px 1px 1px);clip: rect(1px, 1px, 1px, 1px);height: 1px;margin: -1px;overflow: hidden;padding: 0;position: absolute;width: 1px;}#sk-container-id-4 div.sk-estimator {font-family: monospace;background-color: #f0f8ff;border: 1px dotted black;border-radius: 0.25em;box-sizing: border-box;margin-bottom: 0.5em;}#sk-container-id-4 div.sk-estimator:hover {background-color: #d4ebff;}#sk-container-id-4 div.sk-parallel-item::after {content: \"\";width: 100%;border-bottom: 1px solid gray;flex-grow: 1;}#sk-container-id-4 div.sk-label:hover label.sk-toggleable__label {background-color: #d4ebff;}#sk-container-id-4 div.sk-serial::before {content: \"\";position: absolute;border-left: 1px solid gray;box-sizing: border-box;top: 0;bottom: 0;left: 50%;z-index: 0;}#sk-container-id-4 div.sk-serial {display: flex;flex-direction: column;align-items: center;background-color: white;padding-right: 0.2em;padding-left: 0.2em;position: relative;}#sk-container-id-4 div.sk-item {position: relative;z-index: 1;}#sk-container-id-4 div.sk-parallel {display: flex;align-items: stretch;justify-content: center;background-color: white;position: relative;}#sk-container-id-4 div.sk-item::before, #sk-container-id-4 div.sk-parallel-item::before {content: \"\";position: absolute;border-left: 1px solid gray;box-sizing: border-box;top: 0;bottom: 0;left: 50%;z-index: -1;}#sk-container-id-4 div.sk-parallel-item {display: flex;flex-direction: column;z-index: 1;position: relative;background-color: white;}#sk-container-id-4 div.sk-parallel-item:first-child::after {align-self: flex-end;width: 50%;}#sk-container-id-4 div.sk-parallel-item:last-child::after {align-self: flex-start;width: 50%;}#sk-container-id-4 div.sk-parallel-item:only-child::after {width: 0;}#sk-container-id-4 div.sk-dashed-wrapped {border: 1px dashed gray;margin: 0 0.4em 0.5em 0.4em;box-sizing: border-box;padding-bottom: 0.4em;background-color: white;}#sk-container-id-4 div.sk-label label {font-family: monospace;font-weight: bold;display: inline-block;line-height: 1.2em;}#sk-container-id-4 div.sk-label-container {text-align: center;}#sk-container-id-4 div.sk-container {/* jupyter's `normalize.less` sets `[hidden] { display: none; }` but bootstrap.min.css set `[hidden] { display: none !important; }` so we also need the `!important` here to be able to override the default hidden behavior on the sphinx rendered scikit-learn.org. See: https://github.com/scikit-learn/scikit-learn/issues/21755 */display: inline-block !important;position: relative;}#sk-container-id-4 div.sk-text-repr-fallback {display: none;}</style><div id=\"sk-container-id-4\" class=\"sk-top-container\"><div class=\"sk-text-repr-fallback\"><pre>Pipeline(steps=[ColumnTransformer(transformers=[(&#x27;numerical&#x27;,\n",
       "                                                 Pipeline(steps=[(&#x27;impute_median&#x27;,\n",
       "                                                                  SimpleImputer(strategy=&#x27;median&#x27;)),\n",
       "                                                                 (&#x27;scaler&#x27;,\n",
       "                                                                  MinMaxScaler())]),\n",
       "                                                 [&#x27;bill_length_mm&#x27;,\n",
       "                                                  &#x27;bill_depth_mm&#x27;,\n",
       "                                                  &#x27;flipper_length_mm&#x27;]),\n",
       "                                                (&#x27;categorical&#x27;,\n",
       "                                                 Pipeline(steps=[(&#x27;impure_mode&#x27;,\n",
       "                                                                  SimpleImputer(strategy=&#x27;most_frequent&#x27;)),\n",
       "                                                                 (&#x27;encoder&#x27;,\n",
       "                                                                  OneHotEncoder(drop=&#x27;first&#x27;,\n",
       "                                                                                sparse=False))]),\n",
       "                                                 [&#x27;species&#x27;, &#x27;island&#x27;,\n",
       "                                                  &#x27;sex&#x27;])]),\n",
       "                LinearRegression()])</pre><b>In a Jupyter environment, please rerun this cell to show the HTML representation or trust the notebook. <br />On GitHub, the HTML representation is unable to render, please try loading this page with nbviewer.org.</b></div><div class=\"sk-container\" hidden><div class=\"sk-item\"><div class=\"sk-estimator sk-toggleable\"><input class=\"sk-toggleable__control sk-hidden--visually\" id=\"sk-estimator-id-10\" type=\"checkbox\" checked><label for=\"sk-estimator-id-10\" class=\"sk-toggleable__label sk-toggleable__label-arrow\">Pipeline</label><div class=\"sk-toggleable__content\"><pre>Pipeline(steps=[ColumnTransformer(transformers=[(&#x27;numerical&#x27;,\n",
       "                                                 Pipeline(steps=[(&#x27;impute_median&#x27;,\n",
       "                                                                  SimpleImputer(strategy=&#x27;median&#x27;)),\n",
       "                                                                 (&#x27;scaler&#x27;,\n",
       "                                                                  MinMaxScaler())]),\n",
       "                                                 [&#x27;bill_length_mm&#x27;,\n",
       "                                                  &#x27;bill_depth_mm&#x27;,\n",
       "                                                  &#x27;flipper_length_mm&#x27;]),\n",
       "                                                (&#x27;categorical&#x27;,\n",
       "                                                 Pipeline(steps=[(&#x27;impure_mode&#x27;,\n",
       "                                                                  SimpleImputer(strategy=&#x27;most_frequent&#x27;)),\n",
       "                                                                 (&#x27;encoder&#x27;,\n",
       "                                                                  OneHotEncoder(drop=&#x27;first&#x27;,\n",
       "                                                                                sparse=False))]),\n",
       "                                                 [&#x27;species&#x27;, &#x27;island&#x27;,\n",
       "                                                  &#x27;sex&#x27;])]),\n",
       "                LinearRegression()])</pre></div></div></div></div></div>"
      ],
      "text/plain": [
       "Pipeline(steps=[ColumnTransformer(transformers=[('numerical',\n",
       "                                                 Pipeline(steps=[('impute_median',\n",
       "                                                                  SimpleImputer(strategy='median')),\n",
       "                                                                 ('scaler',\n",
       "                                                                  MinMaxScaler())]),\n",
       "                                                 ['bill_length_mm',\n",
       "                                                  'bill_depth_mm',\n",
       "                                                  'flipper_length_mm']),\n",
       "                                                ('categorical',\n",
       "                                                 Pipeline(steps=[('impure_mode',\n",
       "                                                                  SimpleImputer(strategy='most_frequent')),\n",
       "                                                                 ('encoder',\n",
       "                                                                  OneHotEncoder(drop='first',\n",
       "                                                                                sparse=False))]),\n",
       "                                                 ['species', 'island',\n",
       "                                                  'sex'])]),\n",
       "                LinearRegression()])"
      ]
     },
     "execution_count": 23,
     "metadata": {},
     "output_type": "execute_result"
    }
   ],
   "source": [
    "from sklearn.impute import SimpleImputer\n",
    "from sklearn.compose import ColumnTransformer\n",
    "from sklearn.pipeline import Pipeline\n",
    "from sklearn.preprocessing import MinMaxScaler, OneHotEncoder\n",
    "from sklearn.linear_model import LinearRegression\n",
    "\n",
    "\n",
    "# Columnas numéricas (Transformación)\n",
    "pipeline_numeric = Pipeline([\n",
    "    ('impute_median', SimpleImputer(strategy='median')),\n",
    "    ('scaler', MinMaxScaler()) # escala de datos\n",
    "])\n",
    "\n",
    "# pipeline_numeric \"1\"\n",
    "\n",
    "\n",
    "# Columnas categóricas\n",
    "pipeline_categorical = Pipeline([\n",
    "    ('impure_mode', SimpleImputer(strategy='most_frequent')),\n",
    "    ('encoder', OneHotEncoder(drop='first', sparse=False))\n",
    "])\n",
    "\n",
    "# pipeline_categorical \"2\"\n",
    "# Preparar X y\n",
    "X = df.drop('body_mass_g', axis=1)\n",
    "y = df['body_mass_g']\n",
    "\n",
    "# mapear pipelines a columnas\n",
    "# numeric_col_names = ['bill_length_mm', 'bill_depth_mm', 'flipper_length_mm', 'body_mass_g']\n",
    "numeric_col_names = X.select_dtypes(include=np.number).columns.to_list()\n",
    "categorical_col_names = X.select_dtypes(include='object').columns.to_list()\n",
    "\n",
    "preprocessor = ColumnTransformer([\n",
    "    ('numerical', pipeline_numeric, numeric_col_names),\n",
    "    ('categorical', pipeline_categorical, categorical_col_names)\n",
    "])\n",
    "\n",
    "# preprocessor \n",
    "# (alohanle manaraka ito, ivoahanle sary)\n",
    "\n",
    "pipeline = Pipeline([\n",
    "    preprocessor,\n",
    "    LinearRegression()\n",
    "])\n",
    "\n",
    "pipeline\n"
   ]
  }
 ],
 "metadata": {
  "kernelspec": {
   "display_name": "Python 3",
   "language": "python",
   "name": "python3"
  },
  "language_info": {
   "codemirror_mode": {
    "name": "ipython",
    "version": 3
   },
   "file_extension": ".py",
   "mimetype": "text/x-python",
   "name": "python",
   "nbconvert_exporter": "python",
   "pygments_lexer": "ipython3",
   "version": "3.11.3"
  },
  "orig_nbformat": 4
 },
 "nbformat": 4,
 "nbformat_minor": 2
}
