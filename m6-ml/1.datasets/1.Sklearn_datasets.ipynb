{
 "cells": [
  {
   "attachments": {},
   "cell_type": "markdown",
   "metadata": {},
   "source": [
    "# Datasets\n",
    "\n",
    "Aprendizaje automático con Scikit Lear\n",
    "\n",
    "Los datasets en el contexto del aprendizaje automático tienen:\n",
    "\n",
    "* X: Feature / Características / Atributos / Entradas / Variables independientes / variable predictoras\n",
    "\n",
    "* Y: Salida / Target / Clase / Variables dependiente"
   ]
  },
  {
   "cell_type": "code",
   "execution_count": 20,
   "metadata": {},
   "outputs": [
    {
     "data": {
      "text/plain": [
       "'1.2.2'"
      ]
     },
     "execution_count": 20,
     "metadata": {},
     "output_type": "execute_result"
    }
   ],
   "source": [
    "import sklearn\n",
    "sklearn.__version__"
   ]
  },
  {
   "attachments": {},
   "cell_type": "markdown",
   "metadata": {},
   "source": [
    "## Load_"
   ]
  },
  {
   "cell_type": "code",
   "execution_count": 21,
   "metadata": {},
   "outputs": [
    {
     "name": "stdout",
     "output_type": "stream",
     "text": [
      "<class 'sklearn.utils._bunch.Bunch'>\n"
     ]
    }
   ],
   "source": [
    "from sklearn import datasets\n",
    "iris = datasets.load_iris()\n",
    "print(type(iris))"
   ]
  },
  {
   "cell_type": "code",
   "execution_count": 31,
   "metadata": {},
   "outputs": [
    {
     "name": "stdout",
     "output_type": "stream",
     "text": [
      "datasets.load_breast_cancer\n",
      "datasets.load_diabetes\n",
      "datasets.load_digits\n",
      "datasets.load_files\n",
      "datasets.load_iris\n",
      "datasets.load_linnerud\n",
      "datasets.load_sample_image\n",
      "datasets.load_sample_images\n",
      "datasets.load_svmlight_file\n",
      "datasets.load_svmlight_files\n",
      "datasets.load_wine"
     ]
    }
   ],
   "source": [
    "datasets.load_*?\n",
    "#  # es para imprimir si no sale todas las opciones"
   ]
  },
  {
   "cell_type": "code",
   "execution_count": 22,
   "metadata": {},
   "outputs": [
    {
     "name": "stdout",
     "output_type": "stream",
     "text": [
      ".. _iris_dataset:\n",
      "\n",
      "Iris plants dataset\n",
      "--------------------\n",
      "\n",
      "**Data Set Characteristics:**\n",
      "\n",
      "    :Number of Instances: 150 (50 in each of three classes)\n",
      "    :Number of Attributes: 4 numeric, predictive attributes and the class\n",
      "    :Attribute Information:\n",
      "        - sepal length in cm\n",
      "        - sepal width in cm\n",
      "        - petal length in cm\n",
      "        - petal width in cm\n",
      "        - class:\n",
      "                - Iris-Setosa\n",
      "                - Iris-Versicolour\n",
      "                - Iris-Virginica\n",
      "                \n",
      "    :Summary Statistics:\n",
      "\n",
      "    ============== ==== ==== ======= ===== ====================\n",
      "                    Min  Max   Mean    SD   Class Correlation\n",
      "    ============== ==== ==== ======= ===== ====================\n",
      "    sepal length:   4.3  7.9   5.84   0.83    0.7826\n",
      "    sepal width:    2.0  4.4   3.05   0.43   -0.4194\n",
      "    petal length:   1.0  6.9   3.76   1.76    0.9490  (high!)\n",
      "    petal width:    0.1  2.5   1.20   0.76    0.9565  (high!)\n",
      "    ============== ==== ==== ======= ===== ====================\n",
      "\n",
      "    :Missing Attribute Values: None\n",
      "    :Class Distribution: 33.3% for each of 3 classes.\n",
      "    :Creator: R.A. Fisher\n",
      "    :Donor: Michael Marshall (MARSHALL%PLU@io.arc.nasa.gov)\n",
      "    :Date: July, 1988\n",
      "\n",
      "The famous Iris database, first used by Sir R.A. Fisher. The dataset is taken\n",
      "from Fisher's paper. Note that it's the same as in R, but not as in the UCI\n",
      "Machine Learning Repository, which has two wrong data points.\n",
      "\n",
      "This is perhaps the best known database to be found in the\n",
      "pattern recognition literature.  Fisher's paper is a classic in the field and\n",
      "is referenced frequently to this day.  (See Duda & Hart, for example.)  The\n",
      "data set contains 3 classes of 50 instances each, where each class refers to a\n",
      "type of iris plant.  One class is linearly separable from the other 2; the\n",
      "latter are NOT linearly separable from each other.\n",
      "\n",
      ".. topic:: References\n",
      "\n",
      "   - Fisher, R.A. \"The use of multiple measurements in taxonomic problems\"\n",
      "     Annual Eugenics, 7, Part II, 179-188 (1936); also in \"Contributions to\n",
      "     Mathematical Statistics\" (John Wiley, NY, 1950).\n",
      "   - Duda, R.O., & Hart, P.E. (1973) Pattern Classification and Scene Analysis.\n",
      "     (Q327.D83) John Wiley & Sons.  ISBN 0-471-22361-1.  See page 218.\n",
      "   - Dasarathy, B.V. (1980) \"Nosing Around the Neighborhood: A New System\n",
      "     Structure and Classification Rule for Recognition in Partially Exposed\n",
      "     Environments\".  IEEE Transactions on Pattern Analysis and Machine\n",
      "     Intelligence, Vol. PAMI-2, No. 1, 67-71.\n",
      "   - Gates, G.W. (1972) \"The Reduced Nearest Neighbor Rule\".  IEEE Transactions\n",
      "     on Information Theory, May 1972, 431-433.\n",
      "   - See also: 1988 MLC Proceedings, 54-64.  Cheeseman et al\"s AUTOCLASS II\n",
      "     conceptual clustering system finds 3 classes in the data.\n",
      "   - Many, many more ...\n"
     ]
    }
   ],
   "source": [
    "print(iris.DESCR)"
   ]
  },
  {
   "cell_type": "code",
   "execution_count": 23,
   "metadata": {},
   "outputs": [
    {
     "data": {
      "text/plain": [
       "array([[5.1, 3.5, 1.4, 0.2],\n",
       "       [4.9, 3. , 1.4, 0.2],\n",
       "       [4.7, 3.2, 1.3, 0.2],\n",
       "       [4.6, 3.1, 1.5, 0.2],\n",
       "       [5. , 3.6, 1.4, 0.2],\n",
       "       [5.4, 3.9, 1.7, 0.4],\n",
       "       [4.6, 3.4, 1.4, 0.3],\n",
       "       [5. , 3.4, 1.5, 0.2],\n",
       "       [4.4, 2.9, 1.4, 0.2],\n",
       "       [4.9, 3.1, 1.5, 0.1],\n",
       "       [5.4, 3.7, 1.5, 0.2],\n",
       "       [4.8, 3.4, 1.6, 0.2],\n",
       "       [4.8, 3. , 1.4, 0.1],\n",
       "       [4.3, 3. , 1.1, 0.1],\n",
       "       [5.8, 4. , 1.2, 0.2],\n",
       "       [5.7, 4.4, 1.5, 0.4],\n",
       "       [5.4, 3.9, 1.3, 0.4],\n",
       "       [5.1, 3.5, 1.4, 0.3],\n",
       "       [5.7, 3.8, 1.7, 0.3],\n",
       "       [5.1, 3.8, 1.5, 0.3],\n",
       "       [5.4, 3.4, 1.7, 0.2],\n",
       "       [5.1, 3.7, 1.5, 0.4],\n",
       "       [4.6, 3.6, 1. , 0.2],\n",
       "       [5.1, 3.3, 1.7, 0.5],\n",
       "       [4.8, 3.4, 1.9, 0.2],\n",
       "       [5. , 3. , 1.6, 0.2],\n",
       "       [5. , 3.4, 1.6, 0.4],\n",
       "       [5.2, 3.5, 1.5, 0.2],\n",
       "       [5.2, 3.4, 1.4, 0.2],\n",
       "       [4.7, 3.2, 1.6, 0.2],\n",
       "       [4.8, 3.1, 1.6, 0.2],\n",
       "       [5.4, 3.4, 1.5, 0.4],\n",
       "       [5.2, 4.1, 1.5, 0.1],\n",
       "       [5.5, 4.2, 1.4, 0.2],\n",
       "       [4.9, 3.1, 1.5, 0.2],\n",
       "       [5. , 3.2, 1.2, 0.2],\n",
       "       [5.5, 3.5, 1.3, 0.2],\n",
       "       [4.9, 3.6, 1.4, 0.1],\n",
       "       [4.4, 3. , 1.3, 0.2],\n",
       "       [5.1, 3.4, 1.5, 0.2],\n",
       "       [5. , 3.5, 1.3, 0.3],\n",
       "       [4.5, 2.3, 1.3, 0.3],\n",
       "       [4.4, 3.2, 1.3, 0.2],\n",
       "       [5. , 3.5, 1.6, 0.6],\n",
       "       [5.1, 3.8, 1.9, 0.4],\n",
       "       [4.8, 3. , 1.4, 0.3],\n",
       "       [5.1, 3.8, 1.6, 0.2],\n",
       "       [4.6, 3.2, 1.4, 0.2],\n",
       "       [5.3, 3.7, 1.5, 0.2],\n",
       "       [5. , 3.3, 1.4, 0.2],\n",
       "       [7. , 3.2, 4.7, 1.4],\n",
       "       [6.4, 3.2, 4.5, 1.5],\n",
       "       [6.9, 3.1, 4.9, 1.5],\n",
       "       [5.5, 2.3, 4. , 1.3],\n",
       "       [6.5, 2.8, 4.6, 1.5],\n",
       "       [5.7, 2.8, 4.5, 1.3],\n",
       "       [6.3, 3.3, 4.7, 1.6],\n",
       "       [4.9, 2.4, 3.3, 1. ],\n",
       "       [6.6, 2.9, 4.6, 1.3],\n",
       "       [5.2, 2.7, 3.9, 1.4],\n",
       "       [5. , 2. , 3.5, 1. ],\n",
       "       [5.9, 3. , 4.2, 1.5],\n",
       "       [6. , 2.2, 4. , 1. ],\n",
       "       [6.1, 2.9, 4.7, 1.4],\n",
       "       [5.6, 2.9, 3.6, 1.3],\n",
       "       [6.7, 3.1, 4.4, 1.4],\n",
       "       [5.6, 3. , 4.5, 1.5],\n",
       "       [5.8, 2.7, 4.1, 1. ],\n",
       "       [6.2, 2.2, 4.5, 1.5],\n",
       "       [5.6, 2.5, 3.9, 1.1],\n",
       "       [5.9, 3.2, 4.8, 1.8],\n",
       "       [6.1, 2.8, 4. , 1.3],\n",
       "       [6.3, 2.5, 4.9, 1.5],\n",
       "       [6.1, 2.8, 4.7, 1.2],\n",
       "       [6.4, 2.9, 4.3, 1.3],\n",
       "       [6.6, 3. , 4.4, 1.4],\n",
       "       [6.8, 2.8, 4.8, 1.4],\n",
       "       [6.7, 3. , 5. , 1.7],\n",
       "       [6. , 2.9, 4.5, 1.5],\n",
       "       [5.7, 2.6, 3.5, 1. ],\n",
       "       [5.5, 2.4, 3.8, 1.1],\n",
       "       [5.5, 2.4, 3.7, 1. ],\n",
       "       [5.8, 2.7, 3.9, 1.2],\n",
       "       [6. , 2.7, 5.1, 1.6],\n",
       "       [5.4, 3. , 4.5, 1.5],\n",
       "       [6. , 3.4, 4.5, 1.6],\n",
       "       [6.7, 3.1, 4.7, 1.5],\n",
       "       [6.3, 2.3, 4.4, 1.3],\n",
       "       [5.6, 3. , 4.1, 1.3],\n",
       "       [5.5, 2.5, 4. , 1.3],\n",
       "       [5.5, 2.6, 4.4, 1.2],\n",
       "       [6.1, 3. , 4.6, 1.4],\n",
       "       [5.8, 2.6, 4. , 1.2],\n",
       "       [5. , 2.3, 3.3, 1. ],\n",
       "       [5.6, 2.7, 4.2, 1.3],\n",
       "       [5.7, 3. , 4.2, 1.2],\n",
       "       [5.7, 2.9, 4.2, 1.3],\n",
       "       [6.2, 2.9, 4.3, 1.3],\n",
       "       [5.1, 2.5, 3. , 1.1],\n",
       "       [5.7, 2.8, 4.1, 1.3],\n",
       "       [6.3, 3.3, 6. , 2.5],\n",
       "       [5.8, 2.7, 5.1, 1.9],\n",
       "       [7.1, 3. , 5.9, 2.1],\n",
       "       [6.3, 2.9, 5.6, 1.8],\n",
       "       [6.5, 3. , 5.8, 2.2],\n",
       "       [7.6, 3. , 6.6, 2.1],\n",
       "       [4.9, 2.5, 4.5, 1.7],\n",
       "       [7.3, 2.9, 6.3, 1.8],\n",
       "       [6.7, 2.5, 5.8, 1.8],\n",
       "       [7.2, 3.6, 6.1, 2.5],\n",
       "       [6.5, 3.2, 5.1, 2. ],\n",
       "       [6.4, 2.7, 5.3, 1.9],\n",
       "       [6.8, 3. , 5.5, 2.1],\n",
       "       [5.7, 2.5, 5. , 2. ],\n",
       "       [5.8, 2.8, 5.1, 2.4],\n",
       "       [6.4, 3.2, 5.3, 2.3],\n",
       "       [6.5, 3. , 5.5, 1.8],\n",
       "       [7.7, 3.8, 6.7, 2.2],\n",
       "       [7.7, 2.6, 6.9, 2.3],\n",
       "       [6. , 2.2, 5. , 1.5],\n",
       "       [6.9, 3.2, 5.7, 2.3],\n",
       "       [5.6, 2.8, 4.9, 2. ],\n",
       "       [7.7, 2.8, 6.7, 2. ],\n",
       "       [6.3, 2.7, 4.9, 1.8],\n",
       "       [6.7, 3.3, 5.7, 2.1],\n",
       "       [7.2, 3.2, 6. , 1.8],\n",
       "       [6.2, 2.8, 4.8, 1.8],\n",
       "       [6.1, 3. , 4.9, 1.8],\n",
       "       [6.4, 2.8, 5.6, 2.1],\n",
       "       [7.2, 3. , 5.8, 1.6],\n",
       "       [7.4, 2.8, 6.1, 1.9],\n",
       "       [7.9, 3.8, 6.4, 2. ],\n",
       "       [6.4, 2.8, 5.6, 2.2],\n",
       "       [6.3, 2.8, 5.1, 1.5],\n",
       "       [6.1, 2.6, 5.6, 1.4],\n",
       "       [7.7, 3. , 6.1, 2.3],\n",
       "       [6.3, 3.4, 5.6, 2.4],\n",
       "       [6.4, 3.1, 5.5, 1.8],\n",
       "       [6. , 3. , 4.8, 1.8],\n",
       "       [6.9, 3.1, 5.4, 2.1],\n",
       "       [6.7, 3.1, 5.6, 2.4],\n",
       "       [6.9, 3.1, 5.1, 2.3],\n",
       "       [5.8, 2.7, 5.1, 1.9],\n",
       "       [6.8, 3.2, 5.9, 2.3],\n",
       "       [6.7, 3.3, 5.7, 2.5],\n",
       "       [6.7, 3. , 5.2, 2.3],\n",
       "       [6.3, 2.5, 5. , 1.9],\n",
       "       [6.5, 3. , 5.2, 2. ],\n",
       "       [6.2, 3.4, 5.4, 2.3],\n",
       "       [5.9, 3. , 5.1, 1.8]])"
      ]
     },
     "execution_count": 23,
     "metadata": {},
     "output_type": "execute_result"
    }
   ],
   "source": [
    "iris.data"
   ]
  },
  {
   "cell_type": "code",
   "execution_count": 24,
   "metadata": {},
   "outputs": [
    {
     "data": {
      "text/plain": [
       "array([0, 0, 0, 0, 0, 0, 0, 0, 0, 0, 0, 0, 0, 0, 0, 0, 0, 0, 0, 0, 0, 0,\n",
       "       0, 0, 0, 0, 0, 0, 0, 0, 0, 0, 0, 0, 0, 0, 0, 0, 0, 0, 0, 0, 0, 0,\n",
       "       0, 0, 0, 0, 0, 0, 1, 1, 1, 1, 1, 1, 1, 1, 1, 1, 1, 1, 1, 1, 1, 1,\n",
       "       1, 1, 1, 1, 1, 1, 1, 1, 1, 1, 1, 1, 1, 1, 1, 1, 1, 1, 1, 1, 1, 1,\n",
       "       1, 1, 1, 1, 1, 1, 1, 1, 1, 1, 1, 1, 2, 2, 2, 2, 2, 2, 2, 2, 2, 2,\n",
       "       2, 2, 2, 2, 2, 2, 2, 2, 2, 2, 2, 2, 2, 2, 2, 2, 2, 2, 2, 2, 2, 2,\n",
       "       2, 2, 2, 2, 2, 2, 2, 2, 2, 2, 2, 2, 2, 2, 2, 2, 2, 2])"
      ]
     },
     "execution_count": 24,
     "metadata": {},
     "output_type": "execute_result"
    }
   ],
   "source": [
    "iris.target"
   ]
  },
  {
   "cell_type": "code",
   "execution_count": 25,
   "metadata": {},
   "outputs": [
    {
     "data": {
      "text/plain": [
       "array(['setosa', 'versicolor', 'virginica'], dtype='<U10')"
      ]
     },
     "execution_count": 25,
     "metadata": {},
     "output_type": "execute_result"
    }
   ],
   "source": [
    "iris.target_names"
   ]
  },
  {
   "cell_type": "code",
   "execution_count": 12,
   "metadata": {},
   "outputs": [
    {
     "data": {
      "text/html": [
       "<div>\n",
       "<style scoped>\n",
       "    .dataframe tbody tr th:only-of-type {\n",
       "        vertical-align: middle;\n",
       "    }\n",
       "\n",
       "    .dataframe tbody tr th {\n",
       "        vertical-align: top;\n",
       "    }\n",
       "\n",
       "    .dataframe thead th {\n",
       "        text-align: right;\n",
       "    }\n",
       "</style>\n",
       "<table border=\"1\" class=\"dataframe\">\n",
       "  <thead>\n",
       "    <tr style=\"text-align: right;\">\n",
       "      <th></th>\n",
       "      <th>sepal length (cm)</th>\n",
       "      <th>sepal width (cm)</th>\n",
       "      <th>petal length (cm)</th>\n",
       "      <th>petal width (cm)</th>\n",
       "      <th>class</th>\n",
       "    </tr>\n",
       "  </thead>\n",
       "  <tbody>\n",
       "    <tr>\n",
       "      <th>0</th>\n",
       "      <td>5.1</td>\n",
       "      <td>3.5</td>\n",
       "      <td>1.4</td>\n",
       "      <td>0.2</td>\n",
       "      <td>0</td>\n",
       "    </tr>\n",
       "    <tr>\n",
       "      <th>1</th>\n",
       "      <td>4.9</td>\n",
       "      <td>3.0</td>\n",
       "      <td>1.4</td>\n",
       "      <td>0.2</td>\n",
       "      <td>0</td>\n",
       "    </tr>\n",
       "    <tr>\n",
       "      <th>2</th>\n",
       "      <td>4.7</td>\n",
       "      <td>3.2</td>\n",
       "      <td>1.3</td>\n",
       "      <td>0.2</td>\n",
       "      <td>0</td>\n",
       "    </tr>\n",
       "    <tr>\n",
       "      <th>3</th>\n",
       "      <td>4.6</td>\n",
       "      <td>3.1</td>\n",
       "      <td>1.5</td>\n",
       "      <td>0.2</td>\n",
       "      <td>0</td>\n",
       "    </tr>\n",
       "    <tr>\n",
       "      <th>4</th>\n",
       "      <td>5.0</td>\n",
       "      <td>3.6</td>\n",
       "      <td>1.4</td>\n",
       "      <td>0.2</td>\n",
       "      <td>0</td>\n",
       "    </tr>\n",
       "  </tbody>\n",
       "</table>\n",
       "</div>"
      ],
      "text/plain": [
       "   sepal length (cm)  sepal width (cm)  petal length (cm)  petal width (cm)  \\\n",
       "0                5.1               3.5                1.4               0.2   \n",
       "1                4.9               3.0                1.4               0.2   \n",
       "2                4.7               3.2                1.3               0.2   \n",
       "3                4.6               3.1                1.5               0.2   \n",
       "4                5.0               3.6                1.4               0.2   \n",
       "\n",
       "   class  \n",
       "0      0  \n",
       "1      0  \n",
       "2      0  \n",
       "3      0  \n",
       "4      0  "
      ]
     },
     "execution_count": 12,
     "metadata": {},
     "output_type": "execute_result"
    }
   ],
   "source": [
    "import pandas as pd\n",
    "df = pd.DataFrame(iris.data, columns=iris.feature_names)\n",
    "df['class'] = iris .target\n",
    "df.head()"
   ]
  },
  {
   "cell_type": "code",
   "execution_count": 13,
   "metadata": {},
   "outputs": [
    {
     "data": {
      "text/plain": [
       "(150, 5)"
      ]
     },
     "execution_count": 13,
     "metadata": {},
     "output_type": "execute_result"
    }
   ],
   "source": [
    "df.shape"
   ]
  },
  {
   "attachments": {},
   "cell_type": "markdown",
   "metadata": {},
   "source": [
    "## fetch_"
   ]
  },
  {
   "cell_type": "code",
   "execution_count": 32,
   "metadata": {},
   "outputs": [
    {
     "name": "stdout",
     "output_type": "stream",
     "text": [
      "datasets.fetch_20newsgroups\n",
      "datasets.fetch_20newsgroups_vectorized\n",
      "datasets.fetch_california_housing\n",
      "datasets.fetch_covtype\n",
      "datasets.fetch_kddcup99\n",
      "datasets.fetch_lfw_pairs\n",
      "datasets.fetch_lfw_people\n",
      "datasets.fetch_olivetti_faces\n",
      "datasets.fetch_openml\n",
      "datasets.fetch_rcv1\n",
      "datasets.fetch_species_distributions"
     ]
    }
   ],
   "source": [
    "datasets.fetch_*?"
   ]
  },
  {
   "cell_type": "code",
   "execution_count": 33,
   "metadata": {},
   "outputs": [
    {
     "data": {
      "text/plain": [
       "sklearn.utils._bunch.Bunch"
      ]
     },
     "execution_count": 33,
     "metadata": {},
     "output_type": "execute_result"
    }
   ],
   "source": [
    "california = datasets.fetch_california_housing()\n",
    "type(california)"
   ]
  },
  {
   "cell_type": "code",
   "execution_count": 38,
   "metadata": {},
   "outputs": [
    {
     "name": "stdout",
     "output_type": "stream",
     "text": [
      ".. _california_housing_dataset:\n",
      "\n",
      "California Housing dataset\n",
      "--------------------------\n",
      "\n",
      "**Data Set Characteristics:**\n",
      "\n",
      "    :Number of Instances: 20640\n",
      "\n",
      "    :Number of Attributes: 8 numeric, predictive attributes and the target\n",
      "\n",
      "    :Attribute Information:\n",
      "        - MedInc        median income in block group\n",
      "        - HouseAge      median house age in block group\n",
      "        - AveRooms      average number of rooms per household\n",
      "        - AveBedrms     average number of bedrooms per household\n",
      "        - Population    block group population\n",
      "        - AveOccup      average number of household members\n",
      "        - Latitude      block group latitude\n",
      "        - Longitude     block group longitude\n",
      "\n",
      "    :Missing Attribute Values: None\n",
      "\n",
      "This dataset was obtained from the StatLib repository.\n",
      "https://www.dcc.fc.up.pt/~ltorgo/Regression/cal_housing.html\n",
      "\n",
      "The target variable is the median house value for California districts,\n",
      "expressed in hundreds of thousands of dollars ($100,000).\n",
      "\n",
      "This dataset was derived from the 1990 U.S. census, using one row per census\n",
      "block group. A block group is the smallest geographical unit for which the U.S.\n",
      "Census Bureau publishes sample data (a block group typically has a population\n",
      "of 600 to 3,000 people).\n",
      "\n",
      "A household is a group of people residing within a home. Since the average\n",
      "number of rooms and bedrooms in this dataset are provided per household, these\n",
      "columns may take surprisingly large values for block groups with few households\n",
      "and many empty houses, such as vacation resorts.\n",
      "\n",
      "It can be downloaded/loaded using the\n",
      ":func:`sklearn.datasets.fetch_california_housing` function.\n",
      "\n",
      ".. topic:: References\n",
      "\n",
      "    - Pace, R. Kelley and Ronald Barry, Sparse Spatial Autoregressions,\n",
      "      Statistics and Probability Letters, 33 (1997) 291-297\n",
      "\n"
     ]
    }
   ],
   "source": [
    "print(california.DESCR)"
   ]
  },
  {
   "cell_type": "code",
   "execution_count": 36,
   "metadata": {},
   "outputs": [
    {
     "data": {
      "text/html": [
       "<div>\n",
       "<style scoped>\n",
       "    .dataframe tbody tr th:only-of-type {\n",
       "        vertical-align: middle;\n",
       "    }\n",
       "\n",
       "    .dataframe tbody tr th {\n",
       "        vertical-align: top;\n",
       "    }\n",
       "\n",
       "    .dataframe thead th {\n",
       "        text-align: right;\n",
       "    }\n",
       "</style>\n",
       "<table border=\"1\" class=\"dataframe\">\n",
       "  <thead>\n",
       "    <tr style=\"text-align: right;\">\n",
       "      <th></th>\n",
       "      <th>MedInc</th>\n",
       "      <th>HouseAge</th>\n",
       "      <th>AveRooms</th>\n",
       "      <th>AveBedrms</th>\n",
       "      <th>Population</th>\n",
       "      <th>AveOccup</th>\n",
       "      <th>Latitude</th>\n",
       "      <th>Longitude</th>\n",
       "      <th>price</th>\n",
       "    </tr>\n",
       "  </thead>\n",
       "  <tbody>\n",
       "    <tr>\n",
       "      <th>0</th>\n",
       "      <td>8.3252</td>\n",
       "      <td>41.0</td>\n",
       "      <td>6.984127</td>\n",
       "      <td>1.023810</td>\n",
       "      <td>322.0</td>\n",
       "      <td>2.555556</td>\n",
       "      <td>37.88</td>\n",
       "      <td>-122.23</td>\n",
       "      <td>4.526</td>\n",
       "    </tr>\n",
       "    <tr>\n",
       "      <th>1</th>\n",
       "      <td>8.3014</td>\n",
       "      <td>21.0</td>\n",
       "      <td>6.238137</td>\n",
       "      <td>0.971880</td>\n",
       "      <td>2401.0</td>\n",
       "      <td>2.109842</td>\n",
       "      <td>37.86</td>\n",
       "      <td>-122.22</td>\n",
       "      <td>3.585</td>\n",
       "    </tr>\n",
       "    <tr>\n",
       "      <th>2</th>\n",
       "      <td>7.2574</td>\n",
       "      <td>52.0</td>\n",
       "      <td>8.288136</td>\n",
       "      <td>1.073446</td>\n",
       "      <td>496.0</td>\n",
       "      <td>2.802260</td>\n",
       "      <td>37.85</td>\n",
       "      <td>-122.24</td>\n",
       "      <td>3.521</td>\n",
       "    </tr>\n",
       "    <tr>\n",
       "      <th>3</th>\n",
       "      <td>5.6431</td>\n",
       "      <td>52.0</td>\n",
       "      <td>5.817352</td>\n",
       "      <td>1.073059</td>\n",
       "      <td>558.0</td>\n",
       "      <td>2.547945</td>\n",
       "      <td>37.85</td>\n",
       "      <td>-122.25</td>\n",
       "      <td>3.413</td>\n",
       "    </tr>\n",
       "    <tr>\n",
       "      <th>4</th>\n",
       "      <td>3.8462</td>\n",
       "      <td>52.0</td>\n",
       "      <td>6.281853</td>\n",
       "      <td>1.081081</td>\n",
       "      <td>565.0</td>\n",
       "      <td>2.181467</td>\n",
       "      <td>37.85</td>\n",
       "      <td>-122.25</td>\n",
       "      <td>3.422</td>\n",
       "    </tr>\n",
       "  </tbody>\n",
       "</table>\n",
       "</div>"
      ],
      "text/plain": [
       "   MedInc  HouseAge  AveRooms  AveBedrms  Population  AveOccup  Latitude  \\\n",
       "0  8.3252      41.0  6.984127   1.023810       322.0  2.555556     37.88   \n",
       "1  8.3014      21.0  6.238137   0.971880      2401.0  2.109842     37.86   \n",
       "2  7.2574      52.0  8.288136   1.073446       496.0  2.802260     37.85   \n",
       "3  5.6431      52.0  5.817352   1.073059       558.0  2.547945     37.85   \n",
       "4  3.8462      52.0  6.281853   1.081081       565.0  2.181467     37.85   \n",
       "\n",
       "   Longitude  price  \n",
       "0    -122.23  4.526  \n",
       "1    -122.22  3.585  \n",
       "2    -122.24  3.521  \n",
       "3    -122.25  3.413  \n",
       "4    -122.25  3.422  "
      ]
     },
     "execution_count": 36,
     "metadata": {},
     "output_type": "execute_result"
    }
   ],
   "source": [
    "df = pd.DataFrame(california.data, columns=california.feature_names)\n",
    "df['price'] = california.target\n",
    "df.head()"
   ]
  },
  {
   "attachments": {},
   "cell_type": "markdown",
   "metadata": {},
   "source": [
    "## fetch_ con url\n",
    "\n",
    "https://www.openml.org/search?type=data"
   ]
  },
  {
   "attachments": {},
   "cell_type": "markdown",
   "metadata": {},
   "source": [
    "* ampiasaina raha hitelecharge ny dataset directo avy amnle liens manga2 io ambony io\n",
    "* apetraka ny anarany name='iris' na ny code ID=61"
   ]
  },
  {
   "cell_type": "code",
   "execution_count": 39,
   "metadata": {},
   "outputs": [
    {
     "name": "stderr",
     "output_type": "stream",
     "text": [
      "c:\\Users\\funda\\AppData\\Local\\Programs\\Python\\Python310\\lib\\site-packages\\sklearn\\datasets\\_openml.py:968: FutureWarning: The default value of `parser` will change from `'liac-arff'` to `'auto'` in 1.4. You can set `parser='auto'` to silence this warning. Therefore, an `ImportError` will be raised from 1.4 if the dataset is dense and pandas is not installed. Note that the pandas parser may return different data types. See the Notes Section in fetch_openml's API doc for details.\n",
      "  warn(\n"
     ]
    },
    {
     "data": {
      "text/plain": [
       "{'data':      sepallength  sepalwidth  petallength  petalwidth\n",
       " 0            5.1         3.5          1.4         0.2\n",
       " 1            4.9         3.0          1.4         0.2\n",
       " 2            4.7         3.2          1.3         0.2\n",
       " 3            4.6         3.1          1.5         0.2\n",
       " 4            5.0         3.6          1.4         0.2\n",
       " ..           ...         ...          ...         ...\n",
       " 145          6.7         3.0          5.2         2.3\n",
       " 146          6.3         2.5          5.0         1.9\n",
       " 147          6.5         3.0          5.2         2.0\n",
       " 148          6.2         3.4          5.4         2.3\n",
       " 149          5.9         3.0          5.1         1.8\n",
       " \n",
       " [150 rows x 4 columns],\n",
       " 'target': 0         Iris-setosa\n",
       " 1         Iris-setosa\n",
       " 2         Iris-setosa\n",
       " 3         Iris-setosa\n",
       " 4         Iris-setosa\n",
       "             ...      \n",
       " 145    Iris-virginica\n",
       " 146    Iris-virginica\n",
       " 147    Iris-virginica\n",
       " 148    Iris-virginica\n",
       " 149    Iris-virginica\n",
       " Name: class, Length: 150, dtype: category\n",
       " Categories (3, object): ['Iris-setosa', 'Iris-versicolor', 'Iris-virginica'],\n",
       " 'frame':      sepallength  sepalwidth  petallength  petalwidth           class\n",
       " 0            5.1         3.5          1.4         0.2     Iris-setosa\n",
       " 1            4.9         3.0          1.4         0.2     Iris-setosa\n",
       " 2            4.7         3.2          1.3         0.2     Iris-setosa\n",
       " 3            4.6         3.1          1.5         0.2     Iris-setosa\n",
       " 4            5.0         3.6          1.4         0.2     Iris-setosa\n",
       " ..           ...         ...          ...         ...             ...\n",
       " 145          6.7         3.0          5.2         2.3  Iris-virginica\n",
       " 146          6.3         2.5          5.0         1.9  Iris-virginica\n",
       " 147          6.5         3.0          5.2         2.0  Iris-virginica\n",
       " 148          6.2         3.4          5.4         2.3  Iris-virginica\n",
       " 149          5.9         3.0          5.1         1.8  Iris-virginica\n",
       " \n",
       " [150 rows x 5 columns],\n",
       " 'categories': None,\n",
       " 'feature_names': ['sepallength', 'sepalwidth', 'petallength', 'petalwidth'],\n",
       " 'target_names': ['class'],\n",
       " 'DESCR': \"**Author**: R.A. Fisher  \\n**Source**: [UCI](https://archive.ics.uci.edu/ml/datasets/Iris) - 1936 - Donated by Michael Marshall  \\n**Please cite**:   \\n\\n**Iris Plants Database**  \\nThis is perhaps the best known database to be found in the pattern recognition literature.  Fisher's paper is a classic in the field and is referenced frequently to this day.  (See Duda & Hart, for example.)  The data set contains 3 classes of 50 instances each, where each class refers to a type of iris plant.  One class is     linearly separable from the other 2; the latter are NOT linearly separable from each other.\\n\\nPredicted attribute: class of iris plant.  \\nThis is an exceedingly simple domain.  \\n \\n### Attribute Information:\\n    1. sepal length in cm\\n    2. sepal width in cm\\n    3. petal length in cm\\n    4. petal width in cm\\n    5. class: \\n       -- Iris Setosa\\n       -- Iris Versicolour\\n       -- Iris Virginica\\n\\nDownloaded from openml.org.\",\n",
       " 'details': {'id': '61',\n",
       "  'name': 'iris',\n",
       "  'version': '1',\n",
       "  'description_version': '2',\n",
       "  'format': 'ARFF',\n",
       "  'creator': 'R.A. Fisher',\n",
       "  'collection_date': '1936',\n",
       "  'upload_date': '2014-04-06T23:23:39',\n",
       "  'language': 'English',\n",
       "  'licence': 'Public',\n",
       "  'url': 'https://api.openml.org/data/v1/download/61/iris.arff',\n",
       "  'parquet_url': 'http://openml1.win.tue.nl/dataset61/dataset_61.pq',\n",
       "  'file_id': '61',\n",
       "  'default_target_attribute': 'class',\n",
       "  'version_label': '1',\n",
       "  'citation': 'https://archive.ics.uci.edu/ml/citation_policy.html',\n",
       "  'tag': ['study_1',\n",
       "   'study_25',\n",
       "   'study_4',\n",
       "   'study_41',\n",
       "   'study_50',\n",
       "   'study_52',\n",
       "   'study_7',\n",
       "   'study_86',\n",
       "   'study_88',\n",
       "   'study_89',\n",
       "   'uci'],\n",
       "  'visibility': 'public',\n",
       "  'original_data_url': 'https://archive.ics.uci.edu/ml/datasets/Iris',\n",
       "  'paper_url': 'http://digital.library.adelaide.edu.au/dspace/handle/2440/15227',\n",
       "  'minio_url': 'http://openml1.win.tue.nl/dataset61/dataset_61.pq',\n",
       "  'status': 'active',\n",
       "  'processing_date': '2020-11-20 19:02:18',\n",
       "  'md5_checksum': 'ad484452702105cbf3d30f8deaba39a9'},\n",
       " 'url': 'https://www.openml.org/d/61'}"
      ]
     },
     "execution_count": 39,
     "metadata": {},
     "output_type": "execute_result"
    }
   ],
   "source": [
    "datasets.fetch_openml(data_id=61, as_frame=True)"
   ]
  },
  {
   "cell_type": "code",
   "execution_count": 44,
   "metadata": {},
   "outputs": [
    {
     "name": "stderr",
     "output_type": "stream",
     "text": [
      "c:\\Users\\funda\\AppData\\Local\\Programs\\Python\\Python310\\lib\\site-packages\\sklearn\\datasets\\_openml.py:968: FutureWarning: The default value of `parser` will change from `'liac-arff'` to `'auto'` in 1.4. You can set `parser='auto'` to silence this warning. Therefore, an `ImportError` will be raised from 1.4 if the dataset is dense and pandas is not installed. Note that the pandas parser may return different data types. See the Notes Section in fetch_openml's API doc for details.\n",
      "  warn(\n"
     ]
    },
    {
     "data": {
      "text/plain": [
       "{'data':      sepallength  sepalwidth  petallength  petalwidth\n",
       " 0            5.1         3.5          1.4         0.2\n",
       " 1            4.9         3.0          1.4         0.2\n",
       " 2            4.7         3.2          1.3         0.2\n",
       " 3            4.6         3.1          1.5         0.2\n",
       " 4            5.0         3.6          1.4         0.2\n",
       " ..           ...         ...          ...         ...\n",
       " 145          6.7         3.0          5.2         2.3\n",
       " 146          6.3         2.5          5.0         1.9\n",
       " 147          6.5         3.0          5.2         2.0\n",
       " 148          6.2         3.4          5.4         2.3\n",
       " 149          5.9         3.0          5.1         1.8\n",
       " \n",
       " [150 rows x 4 columns],\n",
       " 'target': 0         Iris-setosa\n",
       " 1         Iris-setosa\n",
       " 2         Iris-setosa\n",
       " 3         Iris-setosa\n",
       " 4         Iris-setosa\n",
       "             ...      \n",
       " 145    Iris-virginica\n",
       " 146    Iris-virginica\n",
       " 147    Iris-virginica\n",
       " 148    Iris-virginica\n",
       " 149    Iris-virginica\n",
       " Name: class, Length: 150, dtype: category\n",
       " Categories (3, object): ['Iris-setosa', 'Iris-versicolor', 'Iris-virginica'],\n",
       " 'frame':      sepallength  sepalwidth  petallength  petalwidth           class\n",
       " 0            5.1         3.5          1.4         0.2     Iris-setosa\n",
       " 1            4.9         3.0          1.4         0.2     Iris-setosa\n",
       " 2            4.7         3.2          1.3         0.2     Iris-setosa\n",
       " 3            4.6         3.1          1.5         0.2     Iris-setosa\n",
       " 4            5.0         3.6          1.4         0.2     Iris-setosa\n",
       " ..           ...         ...          ...         ...             ...\n",
       " 145          6.7         3.0          5.2         2.3  Iris-virginica\n",
       " 146          6.3         2.5          5.0         1.9  Iris-virginica\n",
       " 147          6.5         3.0          5.2         2.0  Iris-virginica\n",
       " 148          6.2         3.4          5.4         2.3  Iris-virginica\n",
       " 149          5.9         3.0          5.1         1.8  Iris-virginica\n",
       " \n",
       " [150 rows x 5 columns],\n",
       " 'categories': None,\n",
       " 'feature_names': ['sepallength', 'sepalwidth', 'petallength', 'petalwidth'],\n",
       " 'target_names': ['class'],\n",
       " 'DESCR': \"**Author**: R.A. Fisher  \\n**Source**: [UCI](https://archive.ics.uci.edu/ml/datasets/Iris) - 1936 - Donated by Michael Marshall  \\n**Please cite**:   \\n\\n**Iris Plants Database**  \\nThis is perhaps the best known database to be found in the pattern recognition literature.  Fisher's paper is a classic in the field and is referenced frequently to this day.  (See Duda & Hart, for example.)  The data set contains 3 classes of 50 instances each, where each class refers to a type of iris plant.  One class is     linearly separable from the other 2; the latter are NOT linearly separable from each other.\\n\\nPredicted attribute: class of iris plant.  \\nThis is an exceedingly simple domain.  \\n \\n### Attribute Information:\\n    1. sepal length in cm\\n    2. sepal width in cm\\n    3. petal length in cm\\n    4. petal width in cm\\n    5. class: \\n       -- Iris Setosa\\n       -- Iris Versicolour\\n       -- Iris Virginica\\n\\nDownloaded from openml.org.\",\n",
       " 'details': {'id': '61',\n",
       "  'name': 'iris',\n",
       "  'version': '1',\n",
       "  'description_version': '2',\n",
       "  'format': 'ARFF',\n",
       "  'creator': 'R.A. Fisher',\n",
       "  'collection_date': '1936',\n",
       "  'upload_date': '2014-04-06T23:23:39',\n",
       "  'language': 'English',\n",
       "  'licence': 'Public',\n",
       "  'url': 'https://api.openml.org/data/v1/download/61/iris.arff',\n",
       "  'parquet_url': 'http://openml1.win.tue.nl/dataset61/dataset_61.pq',\n",
       "  'file_id': '61',\n",
       "  'default_target_attribute': 'class',\n",
       "  'version_label': '1',\n",
       "  'citation': 'https://archive.ics.uci.edu/ml/citation_policy.html',\n",
       "  'tag': ['study_1',\n",
       "   'study_25',\n",
       "   'study_4',\n",
       "   'study_41',\n",
       "   'study_50',\n",
       "   'study_52',\n",
       "   'study_7',\n",
       "   'study_86',\n",
       "   'study_88',\n",
       "   'study_89',\n",
       "   'uci'],\n",
       "  'visibility': 'public',\n",
       "  'original_data_url': 'https://archive.ics.uci.edu/ml/datasets/Iris',\n",
       "  'paper_url': 'http://digital.library.adelaide.edu.au/dspace/handle/2440/15227',\n",
       "  'minio_url': 'http://openml1.win.tue.nl/dataset61/dataset_61.pq',\n",
       "  'status': 'active',\n",
       "  'processing_date': '2020-11-20 19:02:18',\n",
       "  'md5_checksum': 'ad484452702105cbf3d30f8deaba39a9'},\n",
       " 'url': 'https://www.openml.org/d/61'}"
      ]
     },
     "execution_count": 44,
     "metadata": {},
     "output_type": "execute_result"
    }
   ],
   "source": [
    "# 1er forme\n",
    "\n",
    "iris = datasets.fetch_openml(data_id=61)\n",
    "iris #bunch con atributos: data, feature_names, target, target_names"
   ]
  },
  {
   "cell_type": "code",
   "execution_count": 42,
   "metadata": {},
   "outputs": [
    {
     "name": "stderr",
     "output_type": "stream",
     "text": [
      "c:\\Users\\funda\\AppData\\Local\\Programs\\Python\\Python310\\lib\\site-packages\\sklearn\\datasets\\_openml.py:301: UserWarning: Multiple active versions of the dataset matching the name iris exist. Versions may be fundamentally different, returning version 1.\n",
      "  warn(\n",
      "c:\\Users\\funda\\AppData\\Local\\Programs\\Python\\Python310\\lib\\site-packages\\sklearn\\datasets\\_openml.py:968: FutureWarning: The default value of `parser` will change from `'liac-arff'` to `'auto'` in 1.4. You can set `parser='auto'` to silence this warning. Therefore, an `ImportError` will be raised from 1.4 if the dataset is dense and pandas is not installed. Note that the pandas parser may return different data types. See the Notes Section in fetch_openml's API doc for details.\n",
      "  warn(\n"
     ]
    },
    {
     "data": {
      "text/plain": [
       "{'data':      sepallength  sepalwidth  petallength  petalwidth\n",
       " 0            5.1         3.5          1.4         0.2\n",
       " 1            4.9         3.0          1.4         0.2\n",
       " 2            4.7         3.2          1.3         0.2\n",
       " 3            4.6         3.1          1.5         0.2\n",
       " 4            5.0         3.6          1.4         0.2\n",
       " ..           ...         ...          ...         ...\n",
       " 145          6.7         3.0          5.2         2.3\n",
       " 146          6.3         2.5          5.0         1.9\n",
       " 147          6.5         3.0          5.2         2.0\n",
       " 148          6.2         3.4          5.4         2.3\n",
       " 149          5.9         3.0          5.1         1.8\n",
       " \n",
       " [150 rows x 4 columns],\n",
       " 'target': 0         Iris-setosa\n",
       " 1         Iris-setosa\n",
       " 2         Iris-setosa\n",
       " 3         Iris-setosa\n",
       " 4         Iris-setosa\n",
       "             ...      \n",
       " 145    Iris-virginica\n",
       " 146    Iris-virginica\n",
       " 147    Iris-virginica\n",
       " 148    Iris-virginica\n",
       " 149    Iris-virginica\n",
       " Name: class, Length: 150, dtype: category\n",
       " Categories (3, object): ['Iris-setosa', 'Iris-versicolor', 'Iris-virginica'],\n",
       " 'frame':      sepallength  sepalwidth  petallength  petalwidth           class\n",
       " 0            5.1         3.5          1.4         0.2     Iris-setosa\n",
       " 1            4.9         3.0          1.4         0.2     Iris-setosa\n",
       " 2            4.7         3.2          1.3         0.2     Iris-setosa\n",
       " 3            4.6         3.1          1.5         0.2     Iris-setosa\n",
       " 4            5.0         3.6          1.4         0.2     Iris-setosa\n",
       " ..           ...         ...          ...         ...             ...\n",
       " 145          6.7         3.0          5.2         2.3  Iris-virginica\n",
       " 146          6.3         2.5          5.0         1.9  Iris-virginica\n",
       " 147          6.5         3.0          5.2         2.0  Iris-virginica\n",
       " 148          6.2         3.4          5.4         2.3  Iris-virginica\n",
       " 149          5.9         3.0          5.1         1.8  Iris-virginica\n",
       " \n",
       " [150 rows x 5 columns],\n",
       " 'categories': None,\n",
       " 'feature_names': ['sepallength', 'sepalwidth', 'petallength', 'petalwidth'],\n",
       " 'target_names': ['class'],\n",
       " 'DESCR': \"**Author**: R.A. Fisher  \\n**Source**: [UCI](https://archive.ics.uci.edu/ml/datasets/Iris) - 1936 - Donated by Michael Marshall  \\n**Please cite**:   \\n\\n**Iris Plants Database**  \\nThis is perhaps the best known database to be found in the pattern recognition literature.  Fisher's paper is a classic in the field and is referenced frequently to this day.  (See Duda & Hart, for example.)  The data set contains 3 classes of 50 instances each, where each class refers to a type of iris plant.  One class is     linearly separable from the other 2; the latter are NOT linearly separable from each other.\\n\\nPredicted attribute: class of iris plant.  \\nThis is an exceedingly simple domain.  \\n \\n### Attribute Information:\\n    1. sepal length in cm\\n    2. sepal width in cm\\n    3. petal length in cm\\n    4. petal width in cm\\n    5. class: \\n       -- Iris Setosa\\n       -- Iris Versicolour\\n       -- Iris Virginica\\n\\nDownloaded from openml.org.\",\n",
       " 'details': {'id': '61',\n",
       "  'name': 'iris',\n",
       "  'version': '1',\n",
       "  'description_version': '2',\n",
       "  'format': 'ARFF',\n",
       "  'creator': 'R.A. Fisher',\n",
       "  'collection_date': '1936',\n",
       "  'upload_date': '2014-04-06T23:23:39',\n",
       "  'language': 'English',\n",
       "  'licence': 'Public',\n",
       "  'url': 'https://api.openml.org/data/v1/download/61/iris.arff',\n",
       "  'parquet_url': 'http://openml1.win.tue.nl/dataset61/dataset_61.pq',\n",
       "  'file_id': '61',\n",
       "  'default_target_attribute': 'class',\n",
       "  'version_label': '1',\n",
       "  'citation': 'https://archive.ics.uci.edu/ml/citation_policy.html',\n",
       "  'tag': ['study_1',\n",
       "   'study_25',\n",
       "   'study_4',\n",
       "   'study_41',\n",
       "   'study_50',\n",
       "   'study_52',\n",
       "   'study_7',\n",
       "   'study_86',\n",
       "   'study_88',\n",
       "   'study_89',\n",
       "   'uci'],\n",
       "  'visibility': 'public',\n",
       "  'original_data_url': 'https://archive.ics.uci.edu/ml/datasets/Iris',\n",
       "  'paper_url': 'http://digital.library.adelaide.edu.au/dspace/handle/2440/15227',\n",
       "  'minio_url': 'http://openml1.win.tue.nl/dataset61/dataset_61.pq',\n",
       "  'status': 'active',\n",
       "  'processing_date': '2020-11-20 19:02:18',\n",
       "  'md5_checksum': 'ad484452702105cbf3d30f8deaba39a9'},\n",
       " 'url': 'https://www.openml.org/d/61'}"
      ]
     },
     "execution_count": 42,
     "metadata": {},
     "output_type": "execute_result"
    }
   ],
   "source": [
    "iris = datasets.fetch_openml(name='iris')\n",
    "iris"
   ]
  },
  {
   "cell_type": "code",
   "execution_count": 45,
   "metadata": {},
   "outputs": [
    {
     "data": {
      "text/plain": [
       "{'data':      sepallength  sepalwidth  petallength  petalwidth\n",
       " 0            5.1         3.5          1.4         0.2\n",
       " 1            4.9         3.0          1.4         0.2\n",
       " 2            4.7         3.2          1.3         0.2\n",
       " 3            4.6         3.1          1.5         0.2\n",
       " 4            5.0         3.6          1.4         0.2\n",
       " ..           ...         ...          ...         ...\n",
       " 145          6.7         3.0          5.2         2.3\n",
       " 146          6.3         2.5          5.0         1.9\n",
       " 147          6.5         3.0          5.2         2.0\n",
       " 148          6.2         3.4          5.4         2.3\n",
       " 149          5.9         3.0          5.1         1.8\n",
       " \n",
       " [150 rows x 4 columns],\n",
       " 'target': 0         Iris-setosa\n",
       " 1         Iris-setosa\n",
       " 2         Iris-setosa\n",
       " 3         Iris-setosa\n",
       " 4         Iris-setosa\n",
       "             ...      \n",
       " 145    Iris-virginica\n",
       " 146    Iris-virginica\n",
       " 147    Iris-virginica\n",
       " 148    Iris-virginica\n",
       " 149    Iris-virginica\n",
       " Name: class, Length: 150, dtype: category\n",
       " Categories (3, object): ['Iris-setosa', 'Iris-versicolor', 'Iris-virginica'],\n",
       " 'frame':      sepallength  sepalwidth  petallength  petalwidth           class\n",
       " 0            5.1         3.5          1.4         0.2     Iris-setosa\n",
       " 1            4.9         3.0          1.4         0.2     Iris-setosa\n",
       " 2            4.7         3.2          1.3         0.2     Iris-setosa\n",
       " 3            4.6         3.1          1.5         0.2     Iris-setosa\n",
       " 4            5.0         3.6          1.4         0.2     Iris-setosa\n",
       " ..           ...         ...          ...         ...             ...\n",
       " 145          6.7         3.0          5.2         2.3  Iris-virginica\n",
       " 146          6.3         2.5          5.0         1.9  Iris-virginica\n",
       " 147          6.5         3.0          5.2         2.0  Iris-virginica\n",
       " 148          6.2         3.4          5.4         2.3  Iris-virginica\n",
       " 149          5.9         3.0          5.1         1.8  Iris-virginica\n",
       " \n",
       " [150 rows x 5 columns],\n",
       " 'categories': None,\n",
       " 'feature_names': ['sepallength', 'sepalwidth', 'petallength', 'petalwidth'],\n",
       " 'target_names': ['class'],\n",
       " 'DESCR': \"**Author**: R.A. Fisher  \\n**Source**: [UCI](https://archive.ics.uci.edu/ml/datasets/Iris) - 1936 - Donated by Michael Marshall  \\n**Please cite**:   \\n\\n**Iris Plants Database**  \\nThis is perhaps the best known database to be found in the pattern recognition literature.  Fisher's paper is a classic in the field and is referenced frequently to this day.  (See Duda & Hart, for example.)  The data set contains 3 classes of 50 instances each, where each class refers to a type of iris plant.  One class is     linearly separable from the other 2; the latter are NOT linearly separable from each other.\\n\\nPredicted attribute: class of iris plant.  \\nThis is an exceedingly simple domain.  \\n \\n### Attribute Information:\\n    1. sepal length in cm\\n    2. sepal width in cm\\n    3. petal length in cm\\n    4. petal width in cm\\n    5. class: \\n       -- Iris Setosa\\n       -- Iris Versicolour\\n       -- Iris Virginica\\n\\nDownloaded from openml.org.\",\n",
       " 'details': {'id': '61',\n",
       "  'name': 'iris',\n",
       "  'version': '1',\n",
       "  'description_version': '2',\n",
       "  'format': 'ARFF',\n",
       "  'creator': 'R.A. Fisher',\n",
       "  'collection_date': '1936',\n",
       "  'upload_date': '2014-04-06T23:23:39',\n",
       "  'language': 'English',\n",
       "  'licence': 'Public',\n",
       "  'url': 'https://api.openml.org/data/v1/download/61/iris.arff',\n",
       "  'parquet_url': 'http://openml1.win.tue.nl/dataset61/dataset_61.pq',\n",
       "  'file_id': '61',\n",
       "  'default_target_attribute': 'class',\n",
       "  'version_label': '1',\n",
       "  'citation': 'https://archive.ics.uci.edu/ml/citation_policy.html',\n",
       "  'tag': ['study_1',\n",
       "   'study_25',\n",
       "   'study_4',\n",
       "   'study_41',\n",
       "   'study_50',\n",
       "   'study_52',\n",
       "   'study_7',\n",
       "   'study_86',\n",
       "   'study_88',\n",
       "   'study_89',\n",
       "   'uci'],\n",
       "  'visibility': 'public',\n",
       "  'original_data_url': 'https://archive.ics.uci.edu/ml/datasets/Iris',\n",
       "  'paper_url': 'http://digital.library.adelaide.edu.au/dspace/handle/2440/15227',\n",
       "  'minio_url': 'http://openml1.win.tue.nl/dataset61/dataset_61.pq',\n",
       "  'status': 'active',\n",
       "  'processing_date': '2020-11-20 19:02:18',\n",
       "  'md5_checksum': 'ad484452702105cbf3d30f8deaba39a9'},\n",
       " 'url': 'https://www.openml.org/d/61'}"
      ]
     },
     "execution_count": 45,
     "metadata": {},
     "output_type": "execute_result"
    }
   ],
   "source": [
    "# 2nd forme\n",
    "\n",
    "iris = datasets.fetch_openml(name='iris', version=1, parser='auto')\n",
    "iris"
   ]
  },
  {
   "cell_type": "code",
   "execution_count": 47,
   "metadata": {},
   "outputs": [
    {
     "name": "stdout",
     "output_type": "stream",
     "text": [
      "datasets.make_biclusters\n",
      "datasets.make_blobs\n",
      "datasets.make_checkerboard\n",
      "datasets.make_circles\n",
      "datasets.make_classification\n",
      "datasets.make_friedman1\n",
      "datasets.make_friedman2\n",
      "datasets.make_friedman3\n",
      "datasets.make_gaussian_quantiles\n",
      "datasets.make_hastie_10_2\n",
      "datasets.make_low_rank_matrix\n",
      "datasets.make_moons\n",
      "datasets.make_multilabel_classification\n",
      "datasets.make_regression\n",
      "datasets.make_s_curve\n",
      "datasets.make_sparse_coded_signal\n",
      "datasets.make_sparse_spd_matrix\n",
      "datasets.make_sparse_uncorrelated\n",
      "datasets.make_spd_matrix\n",
      "datasets.make_swiss_roll"
     ]
    }
   ],
   "source": [
    "datasets.make_*?"
   ]
  },
  {
   "cell_type": "code",
   "execution_count": 65,
   "metadata": {},
   "outputs": [
    {
     "data": {
      "image/png": "[encoded data removed]",
      "text/plain": [
       "<Figure size 640x480 with 1 Axes>"
      ]
     },
     "metadata": {},
     "output_type": "display_data"
    }
   ],
   "source": [
    "# esigual que lo de abajo, solo para mostrar el uso de noise\n",
    "\n",
    "import matplotlib.pyplot as plt\n",
    "X, y = datasets.make_regression(n_features=1, n_samples=100)\n",
    "plt.scatter(X, y);"
   ]
  },
  {
   "cell_type": "code",
   "execution_count": 63,
   "metadata": {},
   "outputs": [
    {
     "data": {
      "image/png": "[encoded data removed]",
      "text/plain": [
       "<Figure size 640x480 with 1 Axes>"
      ]
     },
     "metadata": {},
     "output_type": "display_data"
    }
   ],
   "source": [
    "# 3eme forme (numero de entrada y luego numero de fila)\n",
    "# pour faire un tableau\n",
    "\n",
    "import matplotlib.pyplot as plt\n",
    "X, y = datasets.make_regression(n_features=1, n_samples=100, noise=400) # noise es para separar los puntos/ datos cada vez aumenta más\n",
    "\n",
    "# X matriz. Por ejemplo: Años de experiencia\n",
    "# y vector. Por ejemplo: Salario\n",
    "\n",
    "plt.scatter(X, y);"
   ]
  },
  {
   "cell_type": "code",
   "execution_count": 46,
   "metadata": {},
   "outputs": [],
   "source": []
  }
 ],
 "metadata": {
  "kernelspec": {
   "display_name": "Python 3",
   "language": "python",
   "name": "python3"
  },
  "language_info": {
   "codemirror_mode": {
    "name": "ipython",
    "version": 3
   },
   "file_extension": ".py",
   "mimetype": "text/x-python",
   "name": "python",
   "nbconvert_exporter": "python",
   "pygments_lexer": "ipython3",
   "version": "3.10.11"
  },
  "orig_nbformat": 4
 },
 "nbformat": 4,
 "nbformat_minor": 2
}
