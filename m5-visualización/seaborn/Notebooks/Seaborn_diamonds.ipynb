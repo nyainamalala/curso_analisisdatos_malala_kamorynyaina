{
 "cells": [
  {
   "attachments": {},
   "cell_type": "markdown",
   "metadata": {},
   "source": [
    "## Análisis unovariante\n",
    "\n",
    "* sns.displot\n",
    "* sns.ecdfplot\n",
    "* sns.countplot\n",
    "* sns.kdeplot"
   ]
  },
  {
   "cell_type": "code",
   "execution_count": null,
   "metadata": {},
   "outputs": [],
   "source": []
  },
  {
   "attachments": {},
   "cell_type": "markdown",
   "metadata": {},
   "source": [
    "## Análisis de bivariante\n",
    "* sns.replot()\n",
    "* sns.jointplot()"
   ]
  },
  {
   "cell_type": "code",
   "execution_count": null,
   "metadata": {},
   "outputs": [],
   "source": []
  },
  {
   "attachments": {},
   "cell_type": "markdown",
   "metadata": {},
   "source": [
    "## Análisis multivariante\n",
    "\n",
    "* sns.pairplot()\n",
    "* sns.replot() con hue, col, row, size\n",
    "* sns.heatmap()\n",
    "* sns.clustermap"
   ]
  }
 ],
 "metadata": {
  "language_info": {
   "name": "python"
  },
  "orig_nbformat": 4
 },
 "nbformat": 4,
 "nbformat_minor": 2
}
