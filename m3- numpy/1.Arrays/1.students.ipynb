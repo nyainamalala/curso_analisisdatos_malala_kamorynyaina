{
 "cells": [
  {
   "cell_type": "code",
   "execution_count": 196,
   "metadata": {},
   "outputs": [],
   "source": [
    "import numpy as np"
   ]
  },
  {
   "cell_type": "code",
   "execution_count": 197,
   "metadata": {},
   "outputs": [
    {
     "data": {
      "text/plain": [
       "array([[-1, -1, -1, ..., 72, 72, 74],\n",
       "       [-1, -1, -1, ..., 69, 90, 88],\n",
       "       [-1, -1, -1, ..., 90, 95, 93],\n",
       "       ...,\n",
       "       [-1, -1, -1, ..., 59, 71, 65],\n",
       "       [-1, -1, -1, ..., 68, 78, 77],\n",
       "       [-1, -1, -1, ..., 77, 86, 86]])"
      ]
     },
     "execution_count": 197,
     "metadata": {},
     "output_type": "execute_result"
    }
   ],
   "source": [
    "\n",
    "dataset = np.genfromtxt('../../data/StudentsPerformance.csv', delimiter=',', skip_header=1, dtype=int)\n",
    "dataset"
   ]
  },
  {
   "cell_type": "code",
   "execution_count": 198,
   "metadata": {},
   "outputs": [
    {
     "name": "stdout",
     "output_type": "stream",
     "text": [
      "2\n",
      "(1000, 8)\n"
     ]
    }
   ],
   "source": [
    "print(dataset.ndim)\n",
    "print(dataset.shape)"
   ]
  },
  {
   "cell_type": "code",
   "execution_count": 199,
   "metadata": {},
   "outputs": [],
   "source": [
    "write_scores = dataset[:, -1]\n",
    "read_scores = dataset[:, -2]\n",
    "math_scores = dataset[:, -3]"
   ]
  },
  {
   "cell_type": "code",
   "execution_count": 200,
   "metadata": {},
   "outputs": [
    {
     "data": {
      "text/plain": [
       "(1000,)"
      ]
     },
     "execution_count": 200,
     "metadata": {},
     "output_type": "execute_result"
    }
   ],
   "source": [
    "math_scores.shape"
   ]
  },
  {
   "attachments": {},
   "cell_type": "markdown",
   "metadata": {},
   "source": [
    "## Operaciones aritméticas"
   ]
  },
  {
   "attachments": {},
   "cell_type": "markdown",
   "metadata": {},
   "source": [
    "Sumatorio de notas"
   ]
  },
  {
   "cell_type": "code",
   "execution_count": 201,
   "metadata": {},
   "outputs": [
    {
     "data": {
      "text/plain": [
       "array([218, 247, 278, 148, 229, 232, 275, 122, 195, 148, 164, 135, 219,\n",
       "       220, 161, 222, 263,  78, 134, 173])"
      ]
     },
     "execution_count": 201,
     "metadata": {},
     "output_type": "execute_result"
    }
   ],
   "source": [
    "scores = write_scores + read_scores + math_scores\n",
    "scores[:20]"
   ]
  },
  {
   "cell_type": "code",
   "execution_count": 202,
   "metadata": {},
   "outputs": [
    {
     "data": {
      "text/plain": [
       "(1000,)"
      ]
     },
     "execution_count": 202,
     "metadata": {},
     "output_type": "execute_result"
    }
   ],
   "source": [
    "scores.shape"
   ]
  },
  {
   "attachments": {},
   "cell_type": "markdown",
   "metadata": {},
   "source": [
    "### Nota Media"
   ]
  },
  {
   "cell_type": "code",
   "execution_count": 203,
   "metadata": {},
   "outputs": [
    {
     "data": {
      "text/plain": [
       "array([73., 82., 93., 49., 76., 77., 92., 41., 65., 49., 55., 45., 73.,\n",
       "       73., 54., 74., 88., 26., 45., 58.])"
      ]
     },
     "execution_count": 203,
     "metadata": {},
     "output_type": "execute_result"
    }
   ],
   "source": [
    "final_scores = scores / 3\n",
    "final_scores = np.round(final_scores, 0)\n",
    "final_scores[:20]"
   ]
  },
  {
   "cell_type": "code",
   "execution_count": 204,
   "metadata": {},
   "outputs": [
    {
     "data": {
      "text/plain": [
       "dtype('float64')"
      ]
     },
     "execution_count": 204,
     "metadata": {},
     "output_type": "execute_result"
    }
   ],
   "source": [
    "final_scores.dtype"
   ]
  },
  {
   "cell_type": "code",
   "execution_count": 205,
   "metadata": {},
   "outputs": [
    {
     "data": {
      "text/plain": [
       "array([73, 82, 93, 49, 76, 77, 92, 41, 65, 49, 55, 45, 73, 73, 54, 74, 88,\n",
       "       26, 45, 58])"
      ]
     },
     "execution_count": 205,
     "metadata": {},
     "output_type": "execute_result"
    }
   ],
   "source": [
    "final_scores = final_scores.astype(int)\n",
    "final_scores[:20]"
   ]
  },
  {
   "cell_type": "code",
   "execution_count": 206,
   "metadata": {},
   "outputs": [
    {
     "data": {
      "text/plain": [
       "dtype('int32')"
      ]
     },
     "execution_count": 206,
     "metadata": {},
     "output_type": "execute_result"
    }
   ],
   "source": [
    "final_scores.dtype"
   ]
  },
  {
   "attachments": {},
   "cell_type": "markdown",
   "metadata": {},
   "source": [
    "## Ordenar"
   ]
  },
  {
   "cell_type": "code",
   "execution_count": 207,
   "metadata": {},
   "outputs": [
    {
     "data": {
      "text/plain": [
       "100"
      ]
     },
     "execution_count": 207,
     "metadata": {},
     "output_type": "execute_result"
    }
   ],
   "source": [
    "np.sort(final_scores)[-1]"
   ]
  },
  {
   "cell_type": "code",
   "execution_count": 208,
   "metadata": {},
   "outputs": [
    {
     "name": "stdout",
     "output_type": "stream",
     "text": [
      "Nota más baja: 9\n",
      "Nota más alta: 100\n"
     ]
    }
   ],
   "source": [
    "final_scores_asc = np.sort(final_scores)\n",
    "print(f\"Nota más baja: {final_scores_asc[0]}\")\n",
    "print(f\"Nota más alta: {final_scores_asc[-1]}\")"
   ]
  },
  {
   "attachments": {},
   "cell_type": "markdown",
   "metadata": {},
   "source": [
    "## Filtrar datos"
   ]
  },
  {
   "cell_type": "code",
   "execution_count": 209,
   "metadata": {},
   "outputs": [],
   "source": [
    "success_scores = final_scores[final_scores > 50]\n",
    "fail_scores = final_scores[final_scores < 50]"
   ]
  },
  {
   "cell_type": "code",
   "execution_count": 210,
   "metadata": {},
   "outputs": [
    {
     "name": "stdout",
     "output_type": "stream",
     "text": [
      "success: (883,)\n",
      "fail: (100,)\n"
     ]
    }
   ],
   "source": [
    "print(f\"success: {success_scores.shape}\")\n",
    "print(f\"fail: {fail_scores.shape}\")"
   ]
  },
  {
   "cell_type": "code",
   "execution_count": 211,
   "metadata": {},
   "outputs": [
    {
     "data": {
      "text/plain": [
       "(array([  3,   7,   9,  11,  17,  18,  33,  52,  55,  59,  61,  66,  72,\n",
       "         74,  75,  76,  80,  81,  84,  91,  93, 131, 136, 143, 145, 174,\n",
       "        182, 184, 188, 204, 211, 217, 231, 250, 262, 265, 280, 281, 284,\n",
       "        296, 298, 307, 324, 327, 329, 331, 337, 338, 363, 375, 383, 384,\n",
       "        395, 401, 424, 448, 455, 466, 527, 528, 552, 554, 555, 564, 565,\n",
       "        575, 596, 601, 616, 640, 683, 706, 723, 724, 729, 731, 733, 777,\n",
       "        785, 787, 794, 807, 810, 811, 840, 842, 858, 862, 867, 883, 889,\n",
       "        895, 896, 902, 910, 921, 928, 978, 980, 988], dtype=int64),)"
      ]
     },
     "execution_count": 211,
     "metadata": {},
     "output_type": "execute_result"
    }
   ],
   "source": [
    "fail_index = np.where(final_scores <50)\n",
    "fail_index"
   ]
  },
  {
   "cell_type": "code",
   "execution_count": 212,
   "metadata": {},
   "outputs": [
    {
     "data": {
      "text/plain": [
       "array([49, 41, 49, 45, 26, 45, 40, 46, 39,  9, 37, 40, 47, 46, 41, 26, 49,\n",
       "       46, 38, 32, 46, 43, 49, 49, 31, 49, 49, 49, 48, 47, 30, 38, 44, 48,\n",
       "       48, 47, 49, 46, 43, 43, 45, 49, 43, 23, 49, 40, 48, 30, 31, 43, 44,\n",
       "       41, 45, 46, 38, 45, 47, 32, 44, 39, 46, 46, 35, 48, 45, 49, 23, 29,\n",
       "       40, 48, 38, 39, 47, 44, 43, 48, 49, 41, 42, 30, 48, 42, 39, 47, 46,\n",
       "       34, 49, 40, 48, 48, 48, 35, 31, 41, 47, 45, 44, 48, 18, 45])"
      ]
     },
     "execution_count": 212,
     "metadata": {},
     "output_type": "execute_result"
    }
   ],
   "source": [
    "final_scores[fail_index]"
   ]
  },
  {
   "attachments": {},
   "cell_type": "markdown",
   "metadata": {},
   "source": [
    "## Estadísticas"
   ]
  },
  {
   "cell_type": "code",
   "execution_count": 213,
   "metadata": {},
   "outputs": [
    {
     "data": {
      "text/plain": [
       "41.82"
      ]
     },
     "execution_count": 213,
     "metadata": {},
     "output_type": "execute_result"
    }
   ],
   "source": [
    "np.mean(final_scores[fail_index])"
   ]
  },
  {
   "cell_type": "code",
   "execution_count": 214,
   "metadata": {},
   "outputs": [
    {
     "data": {
      "text/plain": [
       "71.04190260475652"
      ]
     },
     "execution_count": 214,
     "metadata": {},
     "output_type": "execute_result"
    }
   ],
   "source": [
    "np.mean(success_scores)"
   ]
  },
  {
   "cell_type": "code",
   "execution_count": 215,
   "metadata": {},
   "outputs": [
    {
     "data": {
      "text/plain": [
       "67.762"
      ]
     },
     "execution_count": 215,
     "metadata": {},
     "output_type": "execute_result"
    }
   ],
   "source": [
    "np.mean(final_scores)"
   ]
  },
  {
   "attachments": {},
   "cell_type": "markdown",
   "metadata": {},
   "source": [
    "## Mediana"
   ]
  },
  {
   "cell_type": "code",
   "execution_count": 216,
   "metadata": {},
   "outputs": [
    {
     "data": {
      "text/plain": [
       "68.0"
      ]
     },
     "execution_count": 216,
     "metadata": {},
     "output_type": "execute_result"
    }
   ],
   "source": [
    "np.median(final_scores)"
   ]
  },
  {
   "cell_type": "code",
   "execution_count": 217,
   "metadata": {},
   "outputs": [
    {
     "data": {
      "text/plain": [
       "44.5"
      ]
     },
     "execution_count": 217,
     "metadata": {},
     "output_type": "execute_result"
    }
   ],
   "source": [
    "np.median(fail_scores)"
   ]
  },
  {
   "cell_type": "code",
   "execution_count": 218,
   "metadata": {},
   "outputs": [
    {
     "data": {
      "text/plain": [
       "70.0"
      ]
     },
     "execution_count": 218,
     "metadata": {},
     "output_type": "execute_result"
    }
   ],
   "source": [
    "np.median(success_scores)"
   ]
  },
  {
   "attachments": {},
   "cell_type": "markdown",
   "metadata": {},
   "source": [
    "## Máximo y mínimo"
   ]
  },
  {
   "cell_type": "code",
   "execution_count": 219,
   "metadata": {},
   "outputs": [
    {
     "data": {
      "text/plain": [
       "100"
      ]
     },
     "execution_count": 219,
     "metadata": {},
     "output_type": "execute_result"
    }
   ],
   "source": [
    "np.max(final_scores)"
   ]
  },
  {
   "cell_type": "code",
   "execution_count": 220,
   "metadata": {},
   "outputs": [
    {
     "data": {
      "text/plain": [
       "49"
      ]
     },
     "execution_count": 220,
     "metadata": {},
     "output_type": "execute_result"
    }
   ],
   "source": [
    "np.max(fail_scores)"
   ]
  },
  {
   "cell_type": "code",
   "execution_count": 221,
   "metadata": {},
   "outputs": [
    {
     "data": {
      "text/plain": [
       "51"
      ]
     },
     "execution_count": 221,
     "metadata": {},
     "output_type": "execute_result"
    }
   ],
   "source": [
    "np.min(success_scores)"
   ]
  },
  {
   "cell_type": "code",
   "execution_count": 222,
   "metadata": {},
   "outputs": [
    {
     "data": {
      "text/plain": [
       "100"
      ]
     },
     "execution_count": 222,
     "metadata": {},
     "output_type": "execute_result"
    }
   ],
   "source": [
    "np.max(success_scores)"
   ]
  },
  {
   "cell_type": "code",
   "execution_count": 223,
   "metadata": {},
   "outputs": [
    {
     "data": {
      "text/plain": [
       "9"
      ]
     },
     "execution_count": 223,
     "metadata": {},
     "output_type": "execute_result"
    }
   ],
   "source": [
    "np.min(fail_scores)"
   ]
  },
  {
   "cell_type": "code",
   "execution_count": 224,
   "metadata": {},
   "outputs": [
    {
     "data": {
      "text/plain": [
       "51"
      ]
     },
     "execution_count": 224,
     "metadata": {},
     "output_type": "execute_result"
    }
   ],
   "source": [
    "np.min(success_scores)"
   ]
  },
  {
   "cell_type": "code",
   "execution_count": 225,
   "metadata": {},
   "outputs": [
    {
     "data": {
      "text/plain": [
       "9"
      ]
     },
     "execution_count": 225,
     "metadata": {},
     "output_type": "execute_result"
    }
   ],
   "source": [
    "np.min(final_scores)"
   ]
  },
  {
   "cell_type": "code",
   "execution_count": 226,
   "metadata": {},
   "outputs": [
    {
     "data": {
      "text/plain": [
       "100"
      ]
     },
     "execution_count": 226,
     "metadata": {},
     "output_type": "execute_result"
    }
   ],
   "source": [
    "np.max(final_scores)"
   ]
  },
  {
   "attachments": {},
   "cell_type": "markdown",
   "metadata": {},
   "source": [
    "## Moda\n",
    "pip install scipy\n",
    "\n",
    "https://pypi.org/project/scipy/"
   ]
  },
  {
   "cell_type": "code",
   "execution_count": 227,
   "metadata": {},
   "outputs": [],
   "source": [
    "from scipy import stats"
   ]
  },
  {
   "cell_type": "code",
   "execution_count": 228,
   "metadata": {},
   "outputs": [
    {
     "data": {
      "text/plain": [
       "ModeResult(mode=68, count=35)"
      ]
     },
     "execution_count": 228,
     "metadata": {},
     "output_type": "execute_result"
    }
   ],
   "source": [
    "stats.mode(final_scores, keepdims=False)"
   ]
  },
  {
   "cell_type": "code",
   "execution_count": 229,
   "metadata": {},
   "outputs": [
    {
     "name": "stderr",
     "output_type": "stream",
     "text": [
      "C:\\Users\\funda\\AppData\\Local\\Temp\\ipykernel_10852\\219747659.py:1: FutureWarning: Unlike other reduction functions (e.g. `skew`, `kurtosis`), the default behavior of `mode` typically preserves the axis it acts along. In SciPy 1.11.0, this behavior will change: the default value of `keepdims` will become False, the `axis` over which the statistic is taken will be eliminated, and the value None will no longer be accepted. Set `keepdims` to True or False to avoid this warning.\n",
      "  stats.mode(final_scores)\n"
     ]
    },
    {
     "data": {
      "text/plain": [
       "ModeResult(mode=array([68]), count=array([35]))"
      ]
     },
     "execution_count": 229,
     "metadata": {},
     "output_type": "execute_result"
    }
   ],
   "source": [
    "stats.mode(final_scores)"
   ]
  },
  {
   "cell_type": "code",
   "execution_count": 230,
   "metadata": {},
   "outputs": [
    {
     "name": "stderr",
     "output_type": "stream",
     "text": [
      "C:\\Users\\funda\\AppData\\Local\\Temp\\ipykernel_10852\\2801608834.py:1: FutureWarning: Unlike other reduction functions (e.g. `skew`, `kurtosis`), the default behavior of `mode` typically preserves the axis it acts along. In SciPy 1.11.0, this behavior will change: the default value of `keepdims` will become False, the `axis` over which the statistic is taken will be eliminated, and the value None will no longer be accepted. Set `keepdims` to True or False to avoid this warning.\n",
      "  stats.mode(fail_scores)\n"
     ]
    },
    {
     "data": {
      "text/plain": [
       "ModeResult(mode=array([49]), count=array([14]))"
      ]
     },
     "execution_count": 230,
     "metadata": {},
     "output_type": "execute_result"
    }
   ],
   "source": [
    "stats.mode(fail_scores)"
   ]
  },
  {
   "cell_type": "code",
   "execution_count": 231,
   "metadata": {},
   "outputs": [
    {
     "name": "stderr",
     "output_type": "stream",
     "text": [
      "C:\\Users\\funda\\AppData\\Local\\Temp\\ipykernel_10852\\908123199.py:1: FutureWarning: Unlike other reduction functions (e.g. `skew`, `kurtosis`), the default behavior of `mode` typically preserves the axis it acts along. In SciPy 1.11.0, this behavior will change: the default value of `keepdims` will become False, the `axis` over which the statistic is taken will be eliminated, and the value None will no longer be accepted. Set `keepdims` to True or False to avoid this warning.\n",
      "  stats.mode(success_scores)\n"
     ]
    },
    {
     "data": {
      "text/plain": [
       "ModeResult(mode=array([68]), count=array([35]))"
      ]
     },
     "execution_count": 231,
     "metadata": {},
     "output_type": "execute_result"
    }
   ],
   "source": [
    "stats.mode(success_scores)"
   ]
  },
  {
   "attachments": {},
   "cell_type": "markdown",
   "metadata": {},
   "source": [
    "## Desviación estándar-"
   ]
  },
  {
   "cell_type": "code",
   "execution_count": 232,
   "metadata": {},
   "outputs": [
    {
     "data": {
      "text/plain": [
       "14.251222965065137"
      ]
     },
     "execution_count": 232,
     "metadata": {},
     "output_type": "execute_result"
    }
   ],
   "source": [
    "np.std(final_scores)"
   ]
  },
  {
   "attachments": {},
   "cell_type": "markdown",
   "metadata": {},
   "source": [
    "## Categóricos"
   ]
  },
  {
   "attachments": {},
   "cell_type": "markdown",
   "metadata": {},
   "source": [
    "Cargar todas las columnas"
   ]
  },
  {
   "cell_type": "code",
   "execution_count": 233,
   "metadata": {},
   "outputs": [],
   "source": [
    "gender = np.genfromtxt('../../data/StudentsPerformance.csv', delimiter=',', skip_header=1, usecols = (0), dtype=str)\n",
    "race = np.genfromtxt('../../data/StudentsPerformance.csv', delimiter=',', skip_header=1, usecols = (1), dtype=str)\n",
    "parent_education = np.genfromtxt('../../data/StudentsPerformance.csv', delimiter=',', skip_header=1, usecols = (2), dtype=str)\n",
    "lunch = np.genfromtxt('../../data/StudentsPerformance.csv', delimiter=',', skip_header=1, usecols = (3), dtype=str)\n",
    "preparation = np.genfromtxt('../../data/StudentsPerformance.csv', delimiter=',', skip_header=1, usecols = (4), dtype=str)"
   ]
  },
  {
   "attachments": {},
   "cell_type": "markdown",
   "metadata": {},
   "source": [
    "## Sacar valores"
   ]
  },
  {
   "cell_type": "code",
   "execution_count": 234,
   "metadata": {},
   "outputs": [
    {
     "name": "stdout",
     "output_type": "stream",
     "text": [
      "['female' 'male']\n",
      "['group A' 'group B' 'group C' 'group D' 'group E']\n",
      "[\"associate's degree\" \"bachelor's degree\" 'high school' \"master's degree\"\n",
      " 'some college' 'some high school']\n",
      "['free/reduced' 'standard']\n",
      "['completed' 'none']\n"
     ]
    }
   ],
   "source": [
    "print(np.unique(gender))\n",
    "print(np.unique(race))\n",
    "print(np.unique(parent_education))\n",
    "print(np.unique(lunch))\n",
    "print(np.unique(preparation))"
   ]
  },
  {
   "attachments": {},
   "cell_type": "markdown",
   "metadata": {},
   "source": [
    "## Moda"
   ]
  },
  {
   "cell_type": "code",
   "execution_count": 235,
   "metadata": {},
   "outputs": [
    {
     "name": "stdout",
     "output_type": "stream",
     "text": [
      "ModeResult(mode=array(['female'], dtype='<U6'), count=array([518]))\n",
      "ModeResult(mode=array(['group C'], dtype='<U7'), count=array([319]))\n",
      "ModeResult(mode=array(['some college'], dtype='<U18'), count=array([226]))\n",
      "ModeResult(mode=array(['standard'], dtype='<U12'), count=array([645]))\n",
      "ModeResult(mode=array(['none'], dtype='<U9'), count=array([642]))\n"
     ]
    },
    {
     "name": "stderr",
     "output_type": "stream",
     "text": [
      "C:\\Users\\funda\\AppData\\Local\\Temp\\ipykernel_10852\\3258406433.py:1: DeprecationWarning: Support for non-numeric arrays has been deprecated as of SciPy 1.9.0 and will be removed in 1.11.0. `pandas.DataFrame.mode` can be used instead, see https://pandas.pydata.org/docs/reference/api/pandas.DataFrame.mode.html.\n",
      "  print(stats.mode(gender, keepdims = True))\n",
      "C:\\Users\\funda\\AppData\\Local\\Temp\\ipykernel_10852\\3258406433.py:2: DeprecationWarning: Support for non-numeric arrays has been deprecated as of SciPy 1.9.0 and will be removed in 1.11.0. `pandas.DataFrame.mode` can be used instead, see https://pandas.pydata.org/docs/reference/api/pandas.DataFrame.mode.html.\n",
      "  print(stats.mode(race, keepdims = True))\n",
      "C:\\Users\\funda\\AppData\\Local\\Temp\\ipykernel_10852\\3258406433.py:3: DeprecationWarning: Support for non-numeric arrays has been deprecated as of SciPy 1.9.0 and will be removed in 1.11.0. `pandas.DataFrame.mode` can be used instead, see https://pandas.pydata.org/docs/reference/api/pandas.DataFrame.mode.html.\n",
      "  print(stats.mode(parent_education, keepdims = True))\n",
      "C:\\Users\\funda\\AppData\\Local\\Temp\\ipykernel_10852\\3258406433.py:4: DeprecationWarning: Support for non-numeric arrays has been deprecated as of SciPy 1.9.0 and will be removed in 1.11.0. `pandas.DataFrame.mode` can be used instead, see https://pandas.pydata.org/docs/reference/api/pandas.DataFrame.mode.html.\n",
      "  print(stats.mode(lunch, keepdims = True))\n",
      "C:\\Users\\funda\\AppData\\Local\\Temp\\ipykernel_10852\\3258406433.py:5: DeprecationWarning: Support for non-numeric arrays has been deprecated as of SciPy 1.9.0 and will be removed in 1.11.0. `pandas.DataFrame.mode` can be used instead, see https://pandas.pydata.org/docs/reference/api/pandas.DataFrame.mode.html.\n",
      "  print(stats.mode(preparation, keepdims = True))\n"
     ]
    }
   ],
   "source": [
    "print(stats.mode(gender, keepdims = True))\n",
    "print(stats.mode(race, keepdims = True))\n",
    "print(stats.mode(parent_education, keepdims = True))\n",
    "print(stats.mode(lunch, keepdims = True))\n",
    "print(stats.mode(preparation, keepdims = True))"
   ]
  },
  {
   "attachments": {},
   "cell_type": "markdown",
   "metadata": {},
   "source": [
    "## counts"
   ]
  },
  {
   "cell_type": "code",
   "execution_count": 236,
   "metadata": {},
   "outputs": [
    {
     "name": "stdout",
     "output_type": "stream",
     "text": [
      "(array(['female', 'male'], dtype='<U6'), array([518, 482], dtype=int64))\n",
      "<class 'tuple'>\n"
     ]
    }
   ],
   "source": [
    "print(np.unique(gender, return_counts=True))\n",
    "print(type(np.unique(gender, return_counts=True)))\n"
   ]
  },
  {
   "cell_type": "code",
   "execution_count": 237,
   "metadata": {},
   "outputs": [
    {
     "data": {
      "text/plain": [
       "array([518, 482], dtype=int64)"
      ]
     },
     "execution_count": 237,
     "metadata": {},
     "output_type": "execute_result"
    }
   ],
   "source": [
    "unique, counts = np.unique(gender, return_counts=True)\n",
    "counts"
   ]
  },
  {
   "cell_type": "code",
   "execution_count": 238,
   "metadata": {},
   "outputs": [
    {
     "data": {
      "text/plain": [
       "{'female': 518, 'male': 482}"
      ]
     },
     "execution_count": 238,
     "metadata": {},
     "output_type": "execute_result"
    }
   ],
   "source": [
    "# zip permite concatenar elemento a elemento de estructuras distintas\n",
    "dict(zip(unique, counts))"
   ]
  },
  {
   "cell_type": "code",
   "execution_count": 239,
   "metadata": {},
   "outputs": [
    {
     "data": {
      "text/plain": [
       "1000"
      ]
     },
     "execution_count": 239,
     "metadata": {},
     "output_type": "execute_result"
    }
   ],
   "source": [
    "# SELECT COUNT(*) from face\n",
    "len(race)"
   ]
  },
  {
   "cell_type": "code",
   "execution_count": 240,
   "metadata": {},
   "outputs": [
    {
     "data": {
      "text/plain": [
       "Counter({'group C': 319,\n",
       "         'group D': 262,\n",
       "         'group B': 190,\n",
       "         'group E': 140,\n",
       "         'group A': 89})"
      ]
     },
     "execution_count": 240,
     "metadata": {},
     "output_type": "execute_result"
    }
   ],
   "source": [
    "import collections\n",
    "\n",
    "collections.Counter(race)"
   ]
  },
  {
   "attachments": {},
   "cell_type": "markdown",
   "metadata": {},
   "source": [
    "### Correlación"
   ]
  },
  {
   "cell_type": "code",
   "execution_count": 241,
   "metadata": {},
   "outputs": [
    {
     "data": {
      "text/plain": [
       "array([[1.        , 0.81757966],\n",
       "       [0.81757966, 1.        ]])"
      ]
     },
     "execution_count": 241,
     "metadata": {},
     "output_type": "execute_result"
    }
   ],
   "source": [
    "np.corrcoef(math_scores, read_scores)"
   ]
  },
  {
   "attachments": {},
   "cell_type": "markdown",
   "metadata": {},
   "source": [
    "## Cuartiles y Percentiles"
   ]
  },
  {
   "cell_type": "code",
   "execution_count": 242,
   "metadata": {},
   "outputs": [
    {
     "name": "stdout",
     "output_type": "stream",
     "text": [
      "57.0\n",
      "66.0\n",
      "77.0\n"
     ]
    }
   ],
   "source": [
    "print(np.percentile(math_scores, 25))\n",
    "print(np.percentile(math_scores, 50))\n",
    "print(np.percentile(math_scores, 75))"
   ]
  },
  {
   "cell_type": "code",
   "execution_count": 243,
   "metadata": {},
   "outputs": [
    {
     "name": "stdout",
     "output_type": "stream",
     "text": [
      "47.0\n",
      "87.10000000000002\n"
     ]
    }
   ],
   "source": [
    "print(np.percentile(math_scores, 10))\n",
    "print(np.percentile(read_scores, 90))"
   ]
  },
  {
   "cell_type": "code",
   "execution_count": 244,
   "metadata": {},
   "outputs": [
    {
     "data": {
      "text/plain": [
       "array([ 90,  88,  88,  97,  88,  98,  87,  99,  91,  88,  87,  89,  87,\n",
       "        88,  88, 100,  96,  94,  97,  87,  87,  86,  88,  92,  89,  99,\n",
       "        88,  88,  97,  88,  86,  90,  99,  90,  87,  87,  88,  87,  86,\n",
       "        89,  86, 100, 100,  91,  90,  94,  95,  86,  91,  97,  92,  87,\n",
       "        96,  92,  91,  92,  94,  88,  95, 100, 100,  86,  90,  94,  93,\n",
       "        87,  89,  93,  98,  96,  91,  87,  92,  87,  94,  91,  89,  87,\n",
       "        90,  87,  94,  90,  91,  87,  97,  87,  97,  90,  93,  86,  88,\n",
       "        93,  88, 100,  91,  98,  94,  92, 100,  89,  91,  86,  88])"
      ]
     },
     "execution_count": 244,
     "metadata": {},
     "output_type": "execute_result"
    }
   ],
   "source": [
    "top_10 = math_scores >= np.percentile(math_scores, 90)\n",
    "math_top_10 = math_scores[top_10]\n",
    "math_top_10"
   ]
  },
  {
   "cell_type": "code",
   "execution_count": 245,
   "metadata": {},
   "outputs": [
    {
     "data": {
      "text/plain": [
       "22.0"
      ]
     },
     "execution_count": 245,
     "metadata": {},
     "output_type": "execute_result"
    }
   ],
   "source": [
    "Q1 = np.percentile(math_scores, 25)\n",
    "Q3 = np.percentile(read_scores, 75)\n",
    "\n",
    "IQR = Q3 - Q1\n",
    "IQR"
   ]
  },
  {
   "attachments": {},
   "cell_type": "markdown",
   "metadata": {},
   "source": [
    "## Reduce"
   ]
  },
  {
   "cell_type": "code",
   "execution_count": 246,
   "metadata": {},
   "outputs": [],
   "source": [
    "big_array = np.random.rand(100000000)"
   ]
  },
  {
   "cell_type": "code",
   "execution_count": 247,
   "metadata": {},
   "outputs": [
    {
     "name": "stdout",
     "output_type": "stream",
     "text": [
      "50000788.076007284\n",
      "CPU times: total: 13 s\n",
      "Wall time: 13.2 s\n"
     ]
    }
   ],
   "source": [
    "%%time\n",
    "suma = 0\n",
    "for score in big_array: \n",
    "    suma += score\n",
    "    \n",
    "print(suma)"
   ]
  },
  {
   "cell_type": "code",
   "execution_count": 248,
   "metadata": {},
   "outputs": [
    {
     "name": "stdout",
     "output_type": "stream",
     "text": [
      "CPU times: total: 172 ms\n",
      "Wall time: 173 ms\n"
     ]
    },
    {
     "data": {
      "text/plain": [
       "50000788.07599654"
      ]
     },
     "execution_count": 248,
     "metadata": {},
     "output_type": "execute_result"
    }
   ],
   "source": [
    "%%time\n",
    "\n",
    "np.add.reduce(big_array)"
   ]
  },
  {
   "attachments": {},
   "cell_type": "markdown",
   "metadata": {},
   "source": [
    "## Filtros"
   ]
  },
  {
   "cell_type": "code",
   "execution_count": 249,
   "metadata": {},
   "outputs": [
    {
     "data": {
      "text/plain": [
       "array([('female', 'group B', \"bachelor's degree\", 'standard', 'none', 72, 72, 74),\n",
       "       ('female', 'group C', 'some college', 'standard', 'completed', 69, 90, 88),\n",
       "       ('female', 'group B', \"master's degree\", 'standard', 'none', 90, 95, 93),\n",
       "       ('male', 'group A', \"associate's degree\", 'free/reduced', 'none', 47, 57, 44),\n",
       "       ('male', 'group C', 'some college', 'standard', 'none', 76, 78, 75),\n",
       "       ('female', 'group B', \"associate's degree\", 'standard', 'none', 71, 83, 78),\n",
       "       ('female', 'group B', 'some college', 'standard', 'completed', 88, 95, 92),\n",
       "       ('male', 'group B', 'some college', 'free/reduced', 'none', 40, 43, 39),\n",
       "       ('male', 'group D', 'high school', 'free/reduced', 'completed', 64, 64, 67),\n",
       "       ('female', 'group B', 'high school', 'free/reduced', 'none', 38, 60, 50)],\n",
       "      dtype=[('f0', '<U6'), ('f1', '<U7'), ('f2', '<U18'), ('f3', '<U12'), ('f4', '<U9'), ('f5', '<i4'), ('f6', '<i4'), ('f7', '<i4')])"
      ]
     },
     "execution_count": 249,
     "metadata": {},
     "output_type": "execute_result"
    }
   ],
   "source": [
    "data = gender = np.genfromtxt('../../data/StudentsPerformance.csv', delimiter=',',\n",
    "                              skip_header=1,\n",
    "                              encoding='utf-8',\n",
    "                              dtype=None)\n",
    "data[:10]"
   ]
  },
  {
   "cell_type": "code",
   "execution_count": 250,
   "metadata": {},
   "outputs": [
    {
     "name": "stdout",
     "output_type": "stream",
     "text": [
      "1\n",
      "(1000,)\n"
     ]
    }
   ],
   "source": [
    "print(data.ndim)\n",
    "print(data.shape)"
   ]
  },
  {
   "cell_type": "code",
   "execution_count": 251,
   "metadata": {},
   "outputs": [],
   "source": [
    "def filter_by_race(data, race_group):\n",
    "    return data[data[:, 0] == race_group]"
   ]
  },
  {
   "cell_type": "code",
   "execution_count": 256,
   "metadata": {},
   "outputs": [
    {
     "ename": "IndexError",
     "evalue": "too many indices for array: array is 1-dimensional, but 2 were indexed",
     "output_type": "error",
     "traceback": [
      "\u001b[1;31m---------------------------------------------------------------------------\u001b[0m",
      "\u001b[1;31mIndexError\u001b[0m                                Traceback (most recent call last)",
      "Cell \u001b[1;32mIn[256], line 1\u001b[0m\n\u001b[1;32m----> 1\u001b[0m filter_by_race(data, \u001b[39m'\u001b[39;49m\u001b[39mgroup c\u001b[39;49m\u001b[39m'\u001b[39;49m)\n",
      "Cell \u001b[1;32mIn[251], line 2\u001b[0m, in \u001b[0;36mfilter_by_race\u001b[1;34m(data, race_group)\u001b[0m\n\u001b[0;32m      1\u001b[0m \u001b[39mdef\u001b[39;00m \u001b[39mfilter_by_race\u001b[39m(data, race_group):\n\u001b[1;32m----> 2\u001b[0m     \u001b[39mreturn\u001b[39;00m data[data[:, \u001b[39m0\u001b[39;49m] \u001b[39m==\u001b[39m race_group]\n",
      "\u001b[1;31mIndexError\u001b[0m: too many indices for array: array is 1-dimensional, but 2 were indexed"
     ]
    }
   ],
   "source": [
    "\n",
    "filter_by_race(data, 'group c')"
   ]
  },
  {
   "cell_type": "code",
   "execution_count": 253,
   "metadata": {},
   "outputs": [],
   "source": [
    "indices = np.argsort(math_scores)[:: -1]"
   ]
  }
 ],
 "metadata": {
  "kernelspec": {
   "display_name": "Python 3",
   "language": "python",
   "name": "python3"
  },
  "language_info": {
   "codemirror_mode": {
    "name": "ipython",
    "version": 3
   },
   "file_extension": ".py",
   "mimetype": "text/x-python",
   "name": "python",
   "nbconvert_exporter": "python",
   "pygments_lexer": "ipython3",
   "version": "3.10.11"
  },
  "orig_nbformat": 4
 },
 "nbformat": 4,
 "nbformat_minor": 2
}
