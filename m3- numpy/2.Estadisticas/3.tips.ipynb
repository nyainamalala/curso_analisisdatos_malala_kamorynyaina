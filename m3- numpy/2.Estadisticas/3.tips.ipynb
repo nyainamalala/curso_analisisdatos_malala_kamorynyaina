{
 "cells": [
  {
   "cell_type": "code",
   "execution_count": 109,
   "metadata": {},
   "outputs": [],
   "source": [
    "import numpy as np"
   ]
  },
  {
   "cell_type": "code",
   "execution_count": 110,
   "metadata": {},
   "outputs": [],
   "source": [
    "import numpy as np"
   ]
  },
  {
   "cell_type": "code",
   "execution_count": 111,
   "metadata": {},
   "outputs": [
    {
     "data": {
      "text/plain": [
       "array([16.99, 10.34, 21.01, 23.68, 24.59, 25.29,  8.77, 26.88, 15.04,\n",
       "       14.78, 10.27, 35.26, 15.42, 18.43, 14.83, 21.58, 10.33, 16.29,\n",
       "       16.97, 20.65, 17.92, 20.29, 15.77, 39.42, 19.82, 17.81, 13.37,\n",
       "       12.69, 21.7 , 19.65,  9.55, 18.35, 15.06, 20.69, 17.78, 24.06,\n",
       "       16.31, 16.93, 18.69, 31.27, 16.04, 17.46, 13.94,  9.68, 30.4 ,\n",
       "       18.29, 22.23, 32.4 , 28.55, 18.04, 12.54, 10.29, 34.81,  9.94,\n",
       "       25.56, 19.49, 38.01, 26.41, 11.24, 48.27, 20.29, 13.81, 11.02,\n",
       "       18.29, 17.59, 20.08, 16.45,  3.07, 20.23, 15.01, 12.02, 17.07,\n",
       "       26.86, 25.28, 14.73, 10.51, 17.92, 27.2 , 22.76, 17.29, 19.44,\n",
       "       16.66, 10.07, 32.68, 15.98, 34.83, 13.03, 18.28, 24.71, 21.16,\n",
       "       28.97, 22.49,  5.75, 16.32, 22.75, 40.17, 27.28, 12.03, 21.01,\n",
       "       12.46, 11.35, 15.38, 44.3 , 22.42, 20.92, 15.36, 20.49, 25.21,\n",
       "       18.24, 14.31, 14.  ,  7.25, 38.07, 23.95, 25.71, 17.31, 29.93,\n",
       "       10.65, 12.43, 24.08, 11.69, 13.42, 14.26, 15.95, 12.48, 29.8 ,\n",
       "        8.52, 14.52, 11.38, 22.82, 19.08, 20.27, 11.17, 12.26, 18.26,\n",
       "        8.51, 10.33, 14.15, 16.  , 13.16, 17.47, 34.3 , 41.19, 27.05,\n",
       "       16.43,  8.35, 18.64, 11.87,  9.78,  7.51, 14.07, 13.13, 17.26,\n",
       "       24.55, 19.77, 29.85, 48.17, 25.  , 13.39, 16.49, 21.5 , 12.66,\n",
       "       16.21, 13.81, 17.51, 24.52, 20.76, 31.71, 10.59, 10.63, 50.81,\n",
       "       15.81,  7.25, 31.85, 16.82, 32.9 , 17.89, 14.48,  9.6 , 34.63,\n",
       "       34.65, 23.33, 45.35, 23.17, 40.55, 20.69, 20.9 , 30.46, 18.15,\n",
       "       23.1 , 15.69, 19.81, 28.44, 15.48, 16.58,  7.56, 10.34, 43.11,\n",
       "       13.  , 13.51, 18.71, 12.74, 13.  , 16.4 , 20.53, 16.47, 26.59,\n",
       "       38.73, 24.27, 12.76, 30.06, 25.89, 48.33, 13.27, 28.17, 12.9 ,\n",
       "       28.15, 11.59,  7.74, 30.14, 12.16, 13.42,  8.58, 15.98, 13.42,\n",
       "       16.27, 10.09, 20.45, 13.28, 22.12, 24.01, 15.69, 11.61, 10.77,\n",
       "       15.53, 10.07, 12.6 , 32.83, 35.83, 29.03, 27.18, 22.67, 17.82,\n",
       "       18.78])"
      ]
     },
     "execution_count": 111,
     "metadata": {},
     "output_type": "execute_result"
    }
   ],
   "source": [
    "total_bill = np.genfromtxt('../../data/tips.csv', delimiter=',', skip_header=1,\n",
    "                           usecols= (0), dtype=float)\n",
    "total_bill"
   ]
  },
  {
   "cell_type": "code",
   "execution_count": 112,
   "metadata": {},
   "outputs": [],
   "source": [
    "total_bill = np.genfromtxt('../../data/tips.csv', delimiter=',', skip_header=1, usecols= (0), dtype=float)\n",
    "tip = np.genfromtxt('../../data/tips.csv', delimiter=',', skip_header=1, usecols= (1), dtype=float)\n",
    "sex = np.genfromtxt('../../data/tips.csv', delimiter=',', skip_header=1, usecols= (2), dtype=str)\n",
    "smoker = np.genfromtxt('../../data/tips.csv', delimiter=',', skip_header=1, usecols= (3), dtype=str)\n",
    "day = np.genfromtxt('../../data/tips.csv', delimiter=',', skip_header=1, usecols= (4), dtype=str)\n",
    "time = np.genfromtxt('../../data/tips.csv', delimiter=',', skip_header=1, usecols= (5), dtype=str)\n",
    "size = np.genfromtxt('../../data/tips.csv', delimiter=',', skip_header=1, usecols= (6), dtype=int)"
   ]
  },
  {
   "cell_type": "code",
   "execution_count": 113,
   "metadata": {},
   "outputs": [
    {
     "name": "stdout",
     "output_type": "stream",
     "text": [
      "[16.99 10.34 21.01 23.68 24.59]\n",
      "[1.01 1.66 3.5  3.31 3.61]\n",
      "['\"Female\"' '\"Male\"' '\"Male\"' '\"Male\"' '\"Female\"']\n",
      "['\"No\"' '\"No\"' '\"No\"' '\"No\"' '\"No\"']\n",
      "['\"Sun\"' '\"Sun\"' '\"Sun\"' '\"Sun\"' '\"Sun\"']\n",
      "['\"Dinner\"' '\"Dinner\"' '\"Dinner\"' '\"Dinner\"' '\"Dinner\"']\n",
      "[2 3 3 2 4]\n"
     ]
    }
   ],
   "source": [
    "print(total_bill[:5])\n",
    "print(tip[:5])\n",
    "print(sex[:5])\n",
    "print(smoker[:5])\n",
    "print(day[:5])\n",
    "print(time[:5])\n",
    "print(size[:5])"
   ]
  },
  {
   "attachments": {},
   "cell_type": "markdown",
   "metadata": {},
   "source": [
    "## Categóricas"
   ]
  },
  {
   "cell_type": "code",
   "execution_count": 114,
   "metadata": {},
   "outputs": [
    {
     "name": "stdout",
     "output_type": "stream",
     "text": [
      "['\"Female\"' '\"Male\"']\n",
      "['\"No\"' '\"Yes\"']\n",
      "['\"Fri\"' '\"Sat\"' '\"Sun\"' '\"Thur\"']\n",
      "['\"Dinner\"' '\"Lunch\"']\n",
      "[1 2 3 4 5 6]\n"
     ]
    }
   ],
   "source": [
    "\n",
    "print(np.unique(sex))\n",
    "print(np.unique(smoker))\n",
    "print(np.unique(day))\n",
    "print(np.unique(time))\n",
    "print(np.unique(size))"
   ]
  },
  {
   "cell_type": "code",
   "execution_count": 115,
   "metadata": {},
   "outputs": [],
   "source": [
    "import collections\n",
    "\n"
   ]
  },
  {
   "cell_type": "code",
   "execution_count": 116,
   "metadata": {},
   "outputs": [
    {
     "name": "stdout",
     "output_type": "stream",
     "text": [
      "Counter({'\"Male\"': 157, '\"Female\"': 87})\n",
      "Counter({'\"No\"': 151, '\"Yes\"': 93})\n",
      "Counter({'\"Sat\"': 87, '\"Sun\"': 76, '\"Thur\"': 62, '\"Fri\"': 19})\n",
      "Counter({'\"Dinner\"': 176, '\"Lunch\"': 68})\n"
     ]
    }
   ],
   "source": [
    "import collections\n",
    "\n",
    "print(collections.Counter(sex))\n",
    "print(collections.Counter(smoker))\n",
    "print(collections.Counter(day))\n",
    "print(collections.Counter(time))"
   ]
  },
  {
   "cell_type": "code",
   "execution_count": 117,
   "metadata": {},
   "outputs": [
    {
     "data": {
      "text/plain": [
       "array([], dtype='<U6')"
      ]
     },
     "execution_count": 117,
     "metadata": {},
     "output_type": "execute_result"
    }
   ],
   "source": [
    "# sabado y domingo\n",
    "filter = np.logical_or(day == \"Sat\", day == \"Sun\")\n",
    "day[filter][:5]"
   ]
  },
  {
   "cell_type": "code",
   "execution_count": 118,
   "metadata": {},
   "outputs": [
    {
     "data": {
      "text/plain": [
       "array([], dtype='<U6')"
      ]
     },
     "execution_count": 118,
     "metadata": {},
     "output_type": "execute_result"
    }
   ],
   "source": [
    "# negando sabado y domingo obtenemos Jueves y viernes\n",
    "day[(day == \"Sat\") | (day == \"Sun\")][:5]"
   ]
  },
  {
   "attachments": {},
   "cell_type": "markdown",
   "metadata": {},
   "source": [
    "## Numéricas"
   ]
  },
  {
   "cell_type": "code",
   "execution_count": 119,
   "metadata": {},
   "outputs": [],
   "source": [
    "from scipy import stats"
   ]
  },
  {
   "cell_type": "code",
   "execution_count": 120,
   "metadata": {},
   "outputs": [
    {
     "name": "stdout",
     "output_type": "stream",
     "text": [
      "mean: 19.79\n",
      "median: 18.0\n",
      "max: 50.81\n",
      "min: 3.07\n",
      "std: 8.884150577771132\n",
      "mode: ModeResult(mode=array([13.42]), count=array([3]))\n"
     ]
    }
   ],
   "source": [
    "# columna total_bill\n",
    "print(f\"mean: {np.around(np.mean(total_bill), 2)}\")\n",
    "print(f\"median: {np.around(np.median (total_bill))}\")\n",
    "print(f\"max: {np.max(total_bill)}\")\n",
    "print(f\"min: {np.min(total_bill)}\")\n",
    "print(f\"std: {np.std(total_bill)}\")\n",
    "print(f\"mode: {stats.mode(total_bill, keepdims=True)}\")"
   ]
  },
  {
   "cell_type": "code",
   "execution_count": 121,
   "metadata": {},
   "outputs": [
    {
     "name": "stdout",
     "output_type": "stream",
     "text": [
      "mean: 3.0\n",
      "median: 3.0\n",
      "max: 10.0\n",
      "min: 1.0\n",
      "std: 1.3807999538298954\n",
      "mode: ModeResult(mode=array([2.]), count=array([33]))\n"
     ]
    }
   ],
   "source": [
    "# columna tip\n",
    "print(f\"mean: {np.around(np.mean(tip), 2)}\")\n",
    "print(f\"median: {np.around(np.median (tip))}\")\n",
    "print(f\"max: {np.max(tip)}\")\n",
    "print(f\"min: {np.min(tip)}\")\n",
    "print(f\"std: {np.std(tip)}\")\n",
    "print(f\"mode: {stats.mode(tip, keepdims=True)}\")"
   ]
  },
  {
   "cell_type": "code",
   "execution_count": 122,
   "metadata": {},
   "outputs": [
    {
     "name": "stdout",
     "output_type": "stream",
     "text": [
      "mean: 2.57\n",
      "median: 2.0\n",
      "max: 6\n",
      "min: 1\n",
      "std: 0.9491488287193913\n",
      "mode: ModeResult(mode=array([2]), count=array([156]))\n"
     ]
    }
   ],
   "source": [
    "# columna size\n",
    "print(f\"mean: {np.around(np.mean(size), 2)}\")\n",
    "print(f\"median: {np.around(np.median (size))}\")\n",
    "print(f\"max: {np.max(size)}\")\n",
    "print(f\"min: {np.min(size)}\")\n",
    "print(f\"std: {np.std(size)}\")\n",
    "print(f\"mode: {stats.mode(size, keepdims=True)}\")"
   ]
  },
  {
   "cell_type": "code",
   "execution_count": 123,
   "metadata": {},
   "outputs": [
    {
     "data": {
      "text/plain": [
       "244"
      ]
     },
     "execution_count": 123,
     "metadata": {},
     "output_type": "execute_result"
    }
   ],
   "source": [
    "len(tip)"
   ]
  }
 ],
 "metadata": {
  "kernelspec": {
   "display_name": "Python 3",
   "language": "python",
   "name": "python3"
  },
  "language_info": {
   "codemirror_mode": {
    "name": "ipython",
    "version": 3
   },
   "file_extension": ".py",
   "mimetype": "text/x-python",
   "name": "python",
   "nbconvert_exporter": "python",
   "pygments_lexer": "ipython3",
   "version": "3.10.11"
  },
  "orig_nbformat": 4
 },
 "nbformat": 4,
 "nbformat_minor": 2
}
