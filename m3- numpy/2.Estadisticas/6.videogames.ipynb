{
 "cells": [
  {
   "cell_type": "code",
   "execution_count": 132,
   "metadata": {},
   "outputs": [],
   "source": [
    "import numpy as np"
   ]
  },
  {
   "cell_type": "code",
   "execution_count": 133,
   "metadata": {},
   "outputs": [
    {
     "data": {
      "text/plain": [
       "(16598,)"
      ]
     },
     "execution_count": 133,
     "metadata": {},
     "output_type": "execute_result"
    }
   ],
   "source": [
    "\n",
    "names = np.genfromtxt('data/vgsales.csv', usecols=(2), dtype=str,\n",
    "                      skip_header=1, delimiter=',', invalid_raise=False)\n",
    "names[:-5]\n",
    "names.shape"
   ]
  },
  {
   "cell_type": "code",
   "execution_count": 134,
   "metadata": {},
   "outputs": [
    {
     "data": {
      "text/plain": [
       "(16598,)"
      ]
     },
     "execution_count": 134,
     "metadata": {},
     "output_type": "execute_result"
    }
   ],
   "source": [
    "\n",
    "platform = np.genfromtxt('data/vgsales.csv', usecols=(2), dtype=str,\n",
    "                      skip_header=1, delimiter=',', invalid_raise=False)\n",
    "platform.shape"
   ]
  },
  {
   "cell_type": "code",
   "execution_count": 135,
   "metadata": {},
   "outputs": [
    {
     "data": {
      "text/plain": [
       "(16598,)"
      ]
     },
     "execution_count": 135,
     "metadata": {},
     "output_type": "execute_result"
    }
   ],
   "source": [
    "year = np.genfromtxt('data/vgsales.csv', usecols=(2), dtype=int,\n",
    "                      skip_header=1, delimiter=',', invalid_raise=False)\n",
    "year.shape"
   ]
  },
  {
   "cell_type": "code",
   "execution_count": 136,
   "metadata": {},
   "outputs": [
    {
     "data": {
      "text/plain": [
       "(16598,)"
      ]
     },
     "execution_count": 136,
     "metadata": {},
     "output_type": "execute_result"
    }
   ],
   "source": [
    "genres = np.genfromtxt('data/vgsales.csv', usecols=(2), dtype=str,\n",
    "                      skip_header=1, delimiter=',', invalid_raise=False)\n",
    "genres.shape"
   ]
  },
  {
   "cell_type": "code",
   "execution_count": 137,
   "metadata": {},
   "outputs": [
    {
     "data": {
      "text/plain": [
       "(16598,)"
      ]
     },
     "execution_count": 137,
     "metadata": {},
     "output_type": "execute_result"
    }
   ],
   "source": [
    "publishers = np.genfromtxt('data/vgsales.csv', usecols=(2), dtype=str,\n",
    "                      skip_header=1, delimiter=',', invalid_raise=False)\n",
    "publishers.shape"
   ]
  },
  {
   "cell_type": "code",
   "execution_count": 138,
   "metadata": {},
   "outputs": [
    {
     "data": {
      "text/plain": [
       "(16598, 4)"
      ]
     },
     "execution_count": 138,
     "metadata": {},
     "output_type": "execute_result"
    }
   ],
   "source": [
    "# NA_Sales, EU_Sales. JP_Sales, Other_Sales\n",
    "sales = np.genfromtxt('data/vgsales.csv', usecols=(6, 7, 8, 9), dtype=float,\n",
    "                      skip_header=1, delimiter=',', invalid_raise=False)\n",
    "sales.shape"
   ]
  },
  {
   "cell_type": "code",
   "execution_count": 139,
   "metadata": {},
   "outputs": [
    {
     "data": {
      "text/plain": [
       "array([[41.49, 29.02,  3.77,  8.46],\n",
       "       [29.08,  3.58,  6.81,  0.77],\n",
       "       [15.85, 12.88,  3.79,  3.31],\n",
       "       ...,\n",
       "       [ 0.  ,  0.  ,  0.  ,  0.  ],\n",
       "       [ 0.  ,  0.01,  0.  ,  0.  ],\n",
       "       [ 0.01,  0.  ,  0.  ,  0.  ]])"
      ]
     },
     "execution_count": 139,
     "metadata": {},
     "output_type": "execute_result"
    }
   ],
   "source": [
    "np.set_printoptions(suppress=True)\n",
    "sales"
   ]
  },
  {
   "cell_type": "code",
   "execution_count": 140,
   "metadata": {},
   "outputs": [
    {
     "data": {
      "text/plain": [
       "(16598,)"
      ]
     },
     "execution_count": 140,
     "metadata": {},
     "output_type": "execute_result"
    }
   ],
   "source": [
    "# Calcularr ventas totales\n",
    "np.sum(sales, axis=1).shape"
   ]
  },
  {
   "cell_type": "code",
   "execution_count": 141,
   "metadata": {},
   "outputs": [
    {
     "data": {
      "text/plain": [
       "array([82.74, 40.24, 35.83, ...,  0.  ,  0.01,  0.01])"
      ]
     },
     "execution_count": 141,
     "metadata": {},
     "output_type": "execute_result"
    }
   ],
   "source": [
    "# Calcular ventas totales\n",
    "total_sales = np.sum(sales, axis=1)\n",
    "total_sales"
   ]
  },
  {
   "cell_type": "code",
   "execution_count": 142,
   "metadata": {},
   "outputs": [
    {
     "data": {
      "text/plain": [
       "dtype('float64')"
      ]
     },
     "execution_count": 142,
     "metadata": {},
     "output_type": "execute_result"
    }
   ],
   "source": [
    "# Estadisticas sobre ctotal_sales\n",
    "total_sales.dtype"
   ]
  },
  {
   "cell_type": "code",
   "execution_count": 143,
   "metadata": {},
   "outputs": [
    {
     "name": "stdout",
     "output_type": "stream",
     "text": [
      "nan\n",
      "nan\n",
      "nan\n",
      "nan\n",
      "nan\n"
     ]
    }
   ],
   "source": [
    "print(f\"{np.mean(total_sales):.2f}\")\n",
    "print(f\"{np.median(total_sales)}\")\n",
    "print(f\"{np.max(total_sales)}\")\n",
    "print(f\"{np.min(total_sales)}\")\n",
    "print(f\"{np.std(total_sales):.2f}\")"
   ]
  },
  {
   "cell_type": "code",
   "execution_count": 144,
   "metadata": {},
   "outputs": [
    {
     "data": {
      "text/plain": [
       "array([ True,  True,  True,  True,  True,  True,  True,  True,  True,\n",
       "        True,  True,  True,  True,  True,  True,  True,  True,  True,\n",
       "        True,  True,  True,  True,  True,  True,  True,  True,  True,\n",
       "        True,  True,  True,  True,  True,  True,  True,  True,  True,\n",
       "        True,  True,  True,  True,  True,  True,  True,  True,  True,\n",
       "        True,  True,  True,  True,  True,  True,  True,  True,  True,\n",
       "        True,  True,  True,  True,  True,  True,  True,  True,  True,\n",
       "        True,  True,  True,  True,  True,  True,  True,  True,  True,\n",
       "        True,  True,  True,  True,  True,  True,  True,  True,  True,\n",
       "        True,  True,  True,  True,  True,  True,  True,  True,  True,\n",
       "        True,  True,  True,  True,  True,  True,  True,  True,  True,\n",
       "        True,  True,  True,  True,  True,  True,  True,  True,  True,\n",
       "        True,  True,  True,  True,  True,  True,  True,  True,  True,\n",
       "        True,  True,  True,  True,  True,  True])"
      ]
     },
     "execution_count": 144,
     "metadata": {},
     "output_type": "execute_result"
    }
   ],
   "source": [
    "# Detectar si hay nan:\n",
    "isnan = np.isnan(total_sales)\n",
    "isnan[isnan == True]"
   ]
  },
  {
   "cell_type": "code",
   "execution_count": 145,
   "metadata": {},
   "outputs": [
    {
     "name": "stdout",
     "output_type": "stream",
     "text": [
      "Hay NaN: True\n",
      "Hay Infinito: False\n",
      "Hay Infinito neg: False\n"
     ]
    }
   ],
   "source": [
    "# detectar si hay NaN (missing values o valores faltantes):\n",
    "# isnan = np.osnan(total_sales)\n",
    "# isnan[isnan == True]\n",
    "\n",
    "print(f\"Hay NaN: {np.isnan(total_sales).any()}\")\n",
    "print(f\"Hay Infinito: {np.isinf(total_sales).any()}\")\n",
    "print(f\"Hay Infinito neg: {np.isneginf(total_sales).any()}\")\n"
   ]
  },
  {
   "cell_type": "code",
   "execution_count": 146,
   "metadata": {},
   "outputs": [
    {
     "data": {
      "text/plain": [
       "123"
      ]
     },
     "execution_count": 146,
     "metadata": {},
     "output_type": "execute_result"
    }
   ],
   "source": [
    "# Contar cuántos NaN hay\n",
    "len(total_sales[np.isnan(total_sales)])"
   ]
  },
  {
   "cell_type": "code",
   "execution_count": 147,
   "metadata": {},
   "outputs": [
    {
     "name": "stdout",
     "output_type": "stream",
     "text": [
      "16598\n",
      "False\n"
     ]
    }
   ],
   "source": [
    "# Reemplazar por 0 o -1\n",
    "total_sales2 = np.nan_to_num(total_sales, nan=0)\n",
    "print(f\"{len(total_sales2)}\")\n",
    "print(f\"{np.isnan(total_sales2).any()}\") # False"
   ]
  },
  {
   "cell_type": "code",
   "execution_count": 148,
   "metadata": {},
   "outputs": [
    {
     "data": {
      "text/plain": [
       "16598"
      ]
     },
     "execution_count": 148,
     "metadata": {},
     "output_type": "execute_result"
    }
   ],
   "source": [
    "# Calcular la media de total_sales sin nan: (suma las ventas pero valora los NaN)\n",
    "total_sales_3 = np.nansum(sales, axis=1)\n",
    "len(total_sales_3)"
   ]
  },
  {
   "cell_type": "code",
   "execution_count": 149,
   "metadata": {},
   "outputs": [
    {
     "data": {
      "text/plain": [
       "False"
      ]
     },
     "execution_count": 149,
     "metadata": {},
     "output_type": "execute_result"
    }
   ],
   "source": [
    "# Calcular la media de total_sales sin nan: (suma las ventas pero valora los NaN)\n",
    "total_sales_3 = np.nansum(sales, axis=1)\n",
    "np.isnan(total_sales_3).any()"
   ]
  },
  {
   "cell_type": "code",
   "execution_count": 150,
   "metadata": {},
   "outputs": [
    {
     "name": "stdout",
     "output_type": "stream",
     "text": [
      "0.5393644916540212\n"
     ]
    }
   ],
   "source": [
    "# Calcular la media de total_sales sin NaN pero da valor\n",
    "print(f\"{np.nanmean(total_sales)}\")"
   ]
  },
  {
   "cell_type": "code",
   "execution_count": 151,
   "metadata": {},
   "outputs": [
    {
     "data": {
      "text/plain": [
       "True"
      ]
     },
     "execution_count": 151,
     "metadata": {},
     "output_type": "execute_result"
    }
   ],
   "source": [
    "np.isnan(sales).any()\n"
   ]
  },
  {
   "cell_type": "code",
   "execution_count": 152,
   "metadata": {},
   "outputs": [
    {
     "data": {
      "text/plain": [
       "array([[41.49, 29.02,  3.77,  8.46],\n",
       "       [29.08,  3.58,  6.81,  0.77],\n",
       "       [15.85, 12.88,  3.79,  3.31],\n",
       "       ...,\n",
       "       [ 0.  ,  0.  ,  0.  ,  0.  ],\n",
       "       [ 0.  ,  0.01,  0.  ,  0.  ],\n",
       "       [ 0.01,  0.  ,  0.  ,  0.  ]])"
      ]
     },
     "execution_count": 152,
     "metadata": {},
     "output_type": "execute_result"
    }
   ],
   "source": [
    "np.nan_to_num(sales, nan=0)"
   ]
  },
  {
   "cell_type": "code",
   "execution_count": 153,
   "metadata": {},
   "outputs": [
    {
     "data": {
      "text/plain": [
       "array([41.49, 29.02,  3.77, ...,  0.  ,  0.  ,  0.  ])"
      ]
     },
     "execution_count": 153,
     "metadata": {},
     "output_type": "execute_result"
    }
   ],
   "source": [
    "#Ignorar las filas que tienen NaN\n",
    "sales_good = sales[~(np.isnan(sales))]\n",
    "sales_good"
   ]
  },
  {
   "cell_type": "code",
   "execution_count": 154,
   "metadata": {},
   "outputs": [
    {
     "data": {
      "text/plain": [
       "66240"
      ]
     },
     "execution_count": 154,
     "metadata": {},
     "output_type": "execute_result"
    }
   ],
   "source": [
    "len(sales_good)"
   ]
  },
  {
   "cell_type": "code",
   "execution_count": 155,
   "metadata": {},
   "outputs": [],
   "source": [
    "# calcular la media de cada columna ignorando los NaN\n",
    "mean_per_column = np.nanmean(sales, axis=0)\n",
    "\n",
    "#crear una máscara boolean de los Nan en el Array\n",
    "mask = np.isnan(sales)\n"
   ]
  },
  {
   "cell_type": "code",
   "execution_count": null,
   "metadata": {},
   "outputs": [],
   "source": [
    "total_sales = np.sum"
   ]
  },
  {
   "cell_type": "code",
   "execution_count": 160,
   "metadata": {},
   "outputs": [
    {
     "name": "stdout",
     "output_type": "stream",
     "text": [
      "nan\n",
      "nan\n",
      "nan\n",
      "nan\n",
      "nan\n"
     ]
    }
   ],
   "source": [
    "# estadisticas sobre total_sales\n",
    "print(f\"{np.mean(total_sales)}\")\n",
    "print(f\"{np.median(total_sales)}\")\n",
    "print(f\"{np.max(total_sales)}\")\n",
    "print(f\"{np.min(total_sales)}\")\n",
    "print(f\"{np.std(total_sales)}\")\n",
    "# sale NaN porque sales tiene elementos NaN, por tanto no se pueden calcular\n",
    "# estadisticas correctamente\n"
   ]
  },
  {
   "cell_type": "code",
   "execution_count": 188,
   "metadata": {},
   "outputs": [
    {
     "data": {
      "text/plain": [
       "array(['PS2', 'Wii', 'PS2', 'PS3', 'Wii', 'Wii', 'PS2', 'DS', 'Wii', 'DS'],\n",
       "      dtype='<U48')"
      ]
     },
     "execution_count": 188,
     "metadata": {},
     "output_type": "execute_result"
    }
   ],
   "source": [
    "# Identificar los 10 videojuegos más vendidos\n",
    "total_sales = np.genfromtxt('data/vgsales.csv', usecols=(9), dtype=float,\n",
    "                      skip_header=1, delimiter=',', invalid_raise=False)\n",
    "indices = np.argsort(total_sales)[::-1]\n",
    "names[indices][:10]"
   ]
  },
  {
   "cell_type": "code",
   "execution_count": 184,
   "metadata": {},
   "outputs": [
    {
     "data": {
      "text/plain": [
       "False"
      ]
     },
     "execution_count": 184,
     "metadata": {},
     "output_type": "execute_result"
    }
   ],
   "source": [
    "np.isnan(total_sales).any()"
   ]
  },
  {
   "cell_type": "code",
   "execution_count": 201,
   "metadata": {},
   "outputs": [
    {
     "data": {
      "text/plain": [
       "array([' A-Kata', ' Badman! What Did I Do to Deserve This?\"',\n",
       "       ' Be Glorious!\"', ' Be Gracious!\"', ' Boku to Himitsu no Chizu\"',\n",
       "       ' Camera', ' Diego', ' Dood!\"', ' Edd n Eddy: Jawbreakers!\"',\n",
       "       ' Edd n Eddy: The Mis-Edventures\"', ' Fashion and Friends\"',\n",
       "       ' Futatabi\"', ' Ginkaku no Inbou\"', ' Hajime Mashita\"',\n",
       "       ' Hidden Dragon\"', ' Himawari no Shoujo\"', ' Inc. Scream Arena\"',\n",
       "       ' Inc. Scream Team\"', ' Inc.\"', ' Inc.: Mega MicroGame$\"',\n",
       "       ' Inc.: Mega Party Game$\"', ' Kai-lan: New Year\\'s Celebration\"',\n",
       "       ' Kai-lan: Super Game Day\"', ' Keiyaku Shikkou Dechai masuu\"',\n",
       "       ' Kimi ni\"', ' Koi Utsutsu: Setsugetsuka Koi Emaki\"',\n",
       "       ' Koiseyo Otome! Love is Power!!!\"',\n",
       "       ' Kono Sekai ni Kami-sama ga Iru to suru Naraba.\"',\n",
       "       ' Kore ga Otoko Dearu!\"', ' London 1969\"', ' Mahjong & Tangram\"',\n",
       "       ' Mon Meilleur Ami\"', ' Monkey Do!\"', ' My Friend',\n",
       "       ' My Lord!? 2\"', ' My Love\"', ' My Way (US sales)\"',\n",
       "       ' Myths & Legends\"', ' Nine Persons', ' PS2', ' PS3', ' Pikachu!\"',\n",
       "       ' Sakini Ike\"', ' Sea', ' Secret Agent', ' Set', ' Set & Style!\"',\n",
       "       ' She Wrote\"', ' Shinitamou Koto Nakare\"',\n",
       "       ' Shinitamou koto Nakare\"', ' Shutsujin! Koisen\"', ' Sun',\n",
       "       ' Ten e Kaere\"', ' The Bad and The Bugly\"',\n",
       "       ' The Doug Williams Edition\"', ' The Witch and The Wardrobe\"',\n",
       "       ' Trade', ' Ware ga Ichizoku Twin Pack\"', ' Ware ga Ichizoku\"',\n",
       "       ' Ware ga Ichizoku: Tasogare Polarstar\"',\n",
       "       ' Yoga & Pilates Workout\"', ' Zenigata ni wa Koi o\"',\n",
       "       ' but wrong system)\"', '000: Dawn of War II - Chaos Rising\"',\n",
       "       '000: Dawn of War II - Retribution\"', '000: Dawn of War II\"',\n",
       "       '000: Dawn of War\"', '000: Dawn of War: Soulstorm\"',\n",
       "       '000: Fire Warrior\"', '000: Space Marine\"', '000: Squad Command\"',\n",
       "       '2600', '3DO', '3DS', 'DC', 'DS', 'GB', 'GBA', 'GC', 'GEN', 'GG',\n",
       "       'N64', 'NES', 'NG', 'Otome\"', 'PC', 'PCFX', 'PS', 'PS2', 'PS3',\n",
       "       'PS4', 'PSP', 'PSV', 'SAT', 'SCD', 'SNES', 'TG16', 'WS', 'Wii',\n",
       "       'WiiU', 'X360', 'XB', 'XOne', 'big Adventures: Ham-Ham Challenge\"'],\n",
       "      dtype='<U48')"
      ]
     },
     "execution_count": 201,
     "metadata": {},
     "output_type": "execute_result"
    }
   ],
   "source": [
    "# Calcular ventas totales por plataforma\n",
    "unique_platform = np.unique(platform)\n",
    "unique_platform"
   ]
  },
  {
   "cell_type": "code",
   "execution_count": 203,
   "metadata": {},
   "outputs": [
    {
     "ename": "LookupError",
     "evalue": "unknown encoding: uft-8",
     "output_type": "error",
     "traceback": [
      "\u001b[1;31m---------------------------------------------------------------------------\u001b[0m",
      "\u001b[1;31mLookupError\u001b[0m                               Traceback (most recent call last)",
      "Cell \u001b[1;32mIn[203], line 1\u001b[0m\n\u001b[1;32m----> 1\u001b[0m genres \u001b[39m=\u001b[39m np\u001b[39m.\u001b[39;49mgenfromtxt(\u001b[39m'\u001b[39;49m\u001b[39mdata/vgsales.csv\u001b[39;49m\u001b[39m'\u001b[39;49m, usecols\u001b[39m=\u001b[39;49m(\u001b[39m2\u001b[39;49m), dtype\u001b[39m=\u001b[39;49m\u001b[39mstr\u001b[39;49m,\n\u001b[0;32m      2\u001b[0m                       skip_header\u001b[39m=\u001b[39;49m\u001b[39m1\u001b[39;49m, delimiter\u001b[39m=\u001b[39;49m\u001b[39m'\u001b[39;49m\u001b[39m;\u001b[39;49m\u001b[39m'\u001b[39;49m,encoding\u001b[39m=\u001b[39;49m\u001b[39m\"\u001b[39;49m\u001b[39muft-8\u001b[39;49m\u001b[39m\"\u001b[39;49m)\n\u001b[0;32m      3\u001b[0m genres \u001b[39m=\u001b[39m np\u001b[39m.\u001b[39munique(genres)\n",
      "File \u001b[1;32mc:\\Users\\funda\\AppData\\Local\\Programs\\Python\\Python310\\lib\\site-packages\\numpy\\lib\\npyio.py:1977\u001b[0m, in \u001b[0;36mgenfromtxt\u001b[1;34m(fname, dtype, comments, delimiter, skip_header, skip_footer, converters, missing_values, filling_values, usecols, names, excludelist, deletechars, replace_space, autostrip, case_sensitive, defaultfmt, unpack, usemask, loose, invalid_raise, max_rows, encoding, ndmin, like)\u001b[0m\n\u001b[0;32m   1975\u001b[0m     fname \u001b[39m=\u001b[39m os_fspath(fname)\n\u001b[0;32m   1976\u001b[0m \u001b[39mif\u001b[39;00m \u001b[39misinstance\u001b[39m(fname, \u001b[39mstr\u001b[39m):\n\u001b[1;32m-> 1977\u001b[0m     fid \u001b[39m=\u001b[39m np\u001b[39m.\u001b[39;49mlib\u001b[39m.\u001b[39;49m_datasource\u001b[39m.\u001b[39;49mopen(fname, \u001b[39m'\u001b[39;49m\u001b[39mrt\u001b[39;49m\u001b[39m'\u001b[39;49m, encoding\u001b[39m=\u001b[39;49mencoding)\n\u001b[0;32m   1978\u001b[0m     fid_ctx \u001b[39m=\u001b[39m contextlib\u001b[39m.\u001b[39mclosing(fid)\n\u001b[0;32m   1979\u001b[0m \u001b[39melse\u001b[39;00m:\n",
      "File \u001b[1;32mc:\\Users\\funda\\AppData\\Local\\Programs\\Python\\Python310\\lib\\site-packages\\numpy\\lib\\_datasource.py:193\u001b[0m, in \u001b[0;36mopen\u001b[1;34m(path, mode, destpath, encoding, newline)\u001b[0m\n\u001b[0;32m    156\u001b[0m \u001b[39m\u001b[39m\u001b[39m\"\"\"\u001b[39;00m\n\u001b[0;32m    157\u001b[0m \u001b[39mOpen `path` with `mode` and return the file object.\u001b[39;00m\n\u001b[0;32m    158\u001b[0m \n\u001b[1;32m   (...)\u001b[0m\n\u001b[0;32m    189\u001b[0m \n\u001b[0;32m    190\u001b[0m \u001b[39m\"\"\"\u001b[39;00m\n\u001b[0;32m    192\u001b[0m ds \u001b[39m=\u001b[39m DataSource(destpath)\n\u001b[1;32m--> 193\u001b[0m \u001b[39mreturn\u001b[39;00m ds\u001b[39m.\u001b[39;49mopen(path, mode, encoding\u001b[39m=\u001b[39;49mencoding, newline\u001b[39m=\u001b[39;49mnewline)\n",
      "File \u001b[1;32mc:\\Users\\funda\\AppData\\Local\\Programs\\Python\\Python310\\lib\\site-packages\\numpy\\lib\\_datasource.py:530\u001b[0m, in \u001b[0;36mDataSource.open\u001b[1;34m(self, path, mode, encoding, newline)\u001b[0m\n\u001b[0;32m    528\u001b[0m     \u001b[39mif\u001b[39;00m ext \u001b[39m==\u001b[39m \u001b[39m'\u001b[39m\u001b[39mbz2\u001b[39m\u001b[39m'\u001b[39m:\n\u001b[0;32m    529\u001b[0m         mode\u001b[39m.\u001b[39mreplace(\u001b[39m\"\u001b[39m\u001b[39m+\u001b[39m\u001b[39m\"\u001b[39m, \u001b[39m\"\u001b[39m\u001b[39m\"\u001b[39m)\n\u001b[1;32m--> 530\u001b[0m     \u001b[39mreturn\u001b[39;00m _file_openers[ext](found, mode\u001b[39m=\u001b[39;49mmode,\n\u001b[0;32m    531\u001b[0m                               encoding\u001b[39m=\u001b[39;49mencoding, newline\u001b[39m=\u001b[39;49mnewline)\n\u001b[0;32m    532\u001b[0m \u001b[39melse\u001b[39;00m:\n\u001b[0;32m    533\u001b[0m     \u001b[39mraise\u001b[39;00m \u001b[39mFileNotFoundError\u001b[39;00m(\u001b[39mf\u001b[39m\u001b[39m\"\u001b[39m\u001b[39m{\u001b[39;00mpath\u001b[39m}\u001b[39;00m\u001b[39m not found.\u001b[39m\u001b[39m\"\u001b[39m)\n",
      "\u001b[1;31mLookupError\u001b[0m: unknown encoding: uft-8"
     ]
    }
   ],
   "source": [
    "genres = np.genfromtxt('data/vgsales.csv', usecols=(2), dtype=str,\n",
    "                      skip_header=1, delimiter=';',encoding=\"uft-8\")\n",
    "genres = np.unique(genres)"
   ]
  }
 ],
 "metadata": {
  "kernelspec": {
   "display_name": "Python 3",
   "language": "python",
   "name": "python3"
  },
  "language_info": {
   "codemirror_mode": {
    "name": "ipython",
    "version": 3
   },
   "file_extension": ".py",
   "mimetype": "text/x-python",
   "name": "python",
   "nbconvert_exporter": "python",
   "pygments_lexer": "ipython3",
   "version": "3.10.11"
  },
  "orig_nbformat": 4
 },
 "nbformat": 4,
 "nbformat_minor": 2
}
