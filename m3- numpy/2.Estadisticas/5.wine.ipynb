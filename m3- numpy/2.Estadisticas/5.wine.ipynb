{
 "cells": [
  {
   "attachments": {},
   "cell_type": "markdown",
   "metadata": {},
   "source": [
    "## wine data set"
   ]
  },
  {
   "attachments": {},
   "cell_type": "markdown",
   "metadata": {},
   "source": [
    "\n",
    "1. Alcohol\n",
    "2. Malic acid\n",
    "3. Ash\n",
    "4. Alcalinity of ash\n",
    "5. Magnesium\n",
    "6. Total phenols\n",
    "7. Flavanoids\n",
    "8. Nonflavanoid phenols\n",
    "9. Proanthocyanins\n",
    "10. Color intensity\n",
    "11. Hue\n",
    "12. OD280/OD315 of diluted wines \n",
    "13. Proline"
   ]
  },
  {
   "attachments": {},
   "cell_type": "markdown",
   "metadata": {},
   "source": [
    "https://archive.ics.uci.edu/ml/datasets/wine"
   ]
  },
  {
   "cell_type": "code",
   "execution_count": 24,
   "metadata": {},
   "outputs": [],
   "source": [
    "import numpy as np\n",
    "import urllib"
   ]
  },
  {
   "cell_type": "code",
   "execution_count": 25,
   "metadata": {},
   "outputs": [
    {
     "name": "stdout",
     "output_type": "stream",
     "text": [
      "1\n",
      "(13,)\n"
     ]
    }
   ],
   "source": [
    "url = \"https://archive.ics.uci.edu/ml/machine-learning-databases/wine-quality/\"\n",
    "response = urllib.request.urlopen(url)\n",
    "\n",
    "\n",
    "data_red = np.genfromtxt(response, delimiter=';', skip_header=1)\n",
    "data_red\n",
    "print(data_red.ndim)\n",
    "print(data_red.shape)"
   ]
  },
  {
   "cell_type": "code",
   "execution_count": 26,
   "metadata": {},
   "outputs": [
    {
     "name": "stdout",
     "output_type": "stream",
     "text": [
      "2\n",
      "(4898, 12)\n"
     ]
    }
   ],
   "source": [
    "# Forma 1: Leer de \n",
    "data_all = np.genfromtxt('data/winequality-white.csv', delimiter=\";\", skip_header=1)\n",
    "data_all\n",
    "print(data_all.ndim)\n",
    "print(data_all.shape)"
   ]
  },
  {
   "cell_type": "code",
   "execution_count": 27,
   "metadata": {},
   "outputs": [
    {
     "name": "stdout",
     "output_type": "stream",
     "text": [
      "2\n",
      "(1599, 12)\n"
     ]
    }
   ],
   "source": [
    "# Forma 2: Leer de archivo local, no poner \n",
    "data_red = np.genfromtxt('data/winequality-red.csv', delimiter=\";\", skip_header=1)\n",
    "print(data_red.ndim)\n",
    "print(data_red.shape)"
   ]
  },
  {
   "cell_type": "code",
   "execution_count": 28,
   "metadata": {},
   "outputs": [],
   "source": [
    "# columna alcohol (indice 10)\n",
    "mean_alcohol = np.mean(data_all[:, 10])\n",
    "median_alcohol = np.median(data_all[:, 10])\n",
    "std_alcohol = np.std(data_all[:, 10])\n"
   ]
  },
  {
   "cell_type": "code",
   "execution_count": 29,
   "metadata": {},
   "outputs": [],
   "source": [
    "# columna malic acid\n",
    "mean_alcohol = np.mean(data_all[:, 10])\n",
    "median_alcohol = np.median(data_all[:, 10])\n",
    "std_alcohol = np.std(data_all[:, 10])"
   ]
  },
  {
   "cell_type": "code",
   "execution_count": 30,
   "metadata": {},
   "outputs": [],
   "source": [
    "# ash\n",
    "mean_ash = np.mean(data_all[:, 10])\n",
    "median_ash = np.median(data_all[:, 10])\n",
    "std_ash = np.std(data_all[:, 10])"
   ]
  },
  {
   "cell_type": "code",
   "execution_count": 31,
   "metadata": {},
   "outputs": [
    {
     "name": "stdout",
     "output_type": "stream",
     "text": [
      "mean: 10.42\n",
      "median: 10.20\n",
      "max: 14.90\n",
      "min: 8.40\n",
      "std: 1.07\n"
     ]
    }
   ],
   "source": [
    "# Estadisticas sobre columna alcohol (indice 10) en vinos rojos\n",
    "\n",
    "red_alcohol = data_red[:, 10]\n",
    "\n",
    "print(f\"mean: {np.mean(red_alcohol):.2f}\")\n",
    "# print(f\"mean: {np.around(np.mean(red_alcohol)), 0}\")\n",
    "print(f\"median: {np.median(red_alcohol):.2f}\")\n",
    "print(f\"max: {np.max(red_alcohol):.2f}\")\n",
    "print(f\"min: {np.min(red_alcohol):.2f}\")\n",
    "print(f\"std: {np.std(red_alcohol):.2f}\")"
   ]
  },
  {
   "cell_type": "code",
   "execution_count": 32,
   "metadata": {},
   "outputs": [
    {
     "name": "stdout",
     "output_type": "stream",
     "text": [
      "mean: 10.51\n",
      "median: 10.40\n",
      "max: 14.20\n",
      "min: 8.00\n",
      "std: 1.23\n"
     ]
    }
   ],
   "source": [
    "# Estadisticas sobre columna alcohol (indice 10) en vinos blancos\n",
    "\n",
    "all_alcohol = data_all[:, 10]\n",
    "\n",
    "print(f\"mean: {np.mean(all_alcohol):.2f}\")\n",
    "# print(f\"mean: {np.around(np.mean(all_alcohol)), 0}\")\n",
    "print(f\"median: {np.median(all_alcohol):.2f}\")\n",
    "print(f\"max: {np.max(all_alcohol):.2f}\")\n",
    "print(f\"min: {np.min(all_alcohol):.2f}\")\n",
    "print(f\"std: {np.std(all_alcohol):.2f}\")"
   ]
  },
  {
   "attachments": {},
   "cell_type": "markdown",
   "metadata": {},
   "source": [
    "## Concatenar arrays"
   ]
  },
  {
   "cell_type": "code",
   "execution_count": 33,
   "metadata": {},
   "outputs": [],
   "source": [
    "data_red = np.array(red_alcohol)\n",
    "data_white = np.array(all_alcohol)\n",
    "data_wine = [data_red, data_white]\n"
   ]
  },
  {
   "cell_type": "code",
   "execution_count": 34,
   "metadata": {},
   "outputs": [
    {
     "name": "stdout",
     "output_type": "stream",
     "text": [
      "[ 9.4  9.8  9.8 ... 11.  10.2 11. ]\n",
      "[ 8.8  9.5 10.1 ...  9.4 12.8 11.8]\n",
      "[array([ 9.4,  9.8,  9.8, ..., 11. , 10.2, 11. ]), array([ 8.8,  9.5, 10.1, ...,  9.4, 12.8, 11.8])]\n",
      "\n",
      "\n"
     ]
    }
   ],
   "source": [
    "print(data_red); print(data_white); print(data_wine); print('\\n')\n"
   ]
  },
  {
   "cell_type": "code",
   "execution_count": 35,
   "metadata": {},
   "outputs": [
    {
     "data": {
      "text/plain": [
       "(4898, 12)"
      ]
     },
     "execution_count": 35,
     "metadata": {},
     "output_type": "execute_result"
    }
   ],
   "source": [
    "np.concatenate((data_red, data_white))\n",
    "data_all.shape"
   ]
  }
 ],
 "metadata": {
  "kernelspec": {
   "display_name": "Python 3",
   "language": "python",
   "name": "python3"
  },
  "language_info": {
   "codemirror_mode": {
    "name": "ipython",
    "version": 3
   },
   "file_extension": ".py",
   "mimetype": "text/x-python",
   "name": "python",
   "nbconvert_exporter": "python",
   "pygments_lexer": "ipython3",
   "version": "3.10.11"
  },
  "orig_nbformat": 4
 },
 "nbformat": 4,
 "nbformat_minor": 2
}
